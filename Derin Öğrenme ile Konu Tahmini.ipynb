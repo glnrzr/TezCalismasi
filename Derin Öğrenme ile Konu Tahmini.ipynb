{
  "nbformat": 4,
  "nbformat_minor": 0,
  "metadata": {
    "colab": {
      "name": "Untitled24.ipynb",
      "provenance": [],
      "collapsed_sections": [],
      "authorship_tag": "ABX9TyP6vmDZfSoaJwU3sn+TICu+",
      "include_colab_link": true
    },
    "kernelspec": {
      "name": "python3",
      "display_name": "Python 3"
    }
  },
  "cells": [
    {
      "cell_type": "markdown",
      "metadata": {
        "id": "view-in-github",
        "colab_type": "text"
      },
      "source": [
        "<a href=\"https://colab.research.google.com/github/glnrzr/TezCalismasi/blob/master/Derin%20%C3%96%C4%9Frenme%20ile%20Konu%20Tahmini.ipynb\" target=\"_parent\"><img src=\"https://colab.research.google.com/assets/colab-badge.svg\" alt=\"Open In Colab\"/></a>"
      ]
    },
    {
      "cell_type": "code",
      "metadata": {
        "id": "5H8_4r4ZmO5U"
      },
      "source": [
        "from google.colab import drive"
      ],
      "execution_count": 1,
      "outputs": []
    },
    {
      "cell_type": "code",
      "metadata": {
        "colab": {
          "base_uri": "https://localhost:8080/"
        },
        "id": "LZ3OS0tSmVDL",
        "outputId": "687e6cf1-4b37-4102-cb9b-70bff2021af8"
      },
      "source": [
        "drive.mount('/content/drive')"
      ],
      "execution_count": 2,
      "outputs": [
        {
          "output_type": "stream",
          "text": [
            "Mounted at /content/drive\n"
          ],
          "name": "stdout"
        }
      ]
    },
    {
      "cell_type": "code",
      "metadata": {
        "id": "MuWXEY-wmVSh"
      },
      "source": [
        "import pandas as pd\r\n"
      ],
      "execution_count": 3,
      "outputs": []
    },
    {
      "cell_type": "code",
      "metadata": {
        "id": "K2jPmP3zmVXL"
      },
      "source": [
        "dataset = pd.read_excel('/content/drive/My Drive/uygulama/topic_modeling_colab.xlsx')"
      ],
      "execution_count": 4,
      "outputs": []
    },
    {
      "cell_type": "code",
      "metadata": {
        "colab": {
          "base_uri": "https://localhost:8080/",
          "height": 204
        },
        "id": "18wT9CgfmVZu",
        "outputId": "1012cba4-19fa-40aa-b2e2-11c4c1242847"
      },
      "source": [
        "dataset.head()\r\n"
      ],
      "execution_count": 5,
      "outputs": [
        {
          "output_type": "execute_result",
          "data": {
            "text/html": [
              "<div>\n",
              "<style scoped>\n",
              "    .dataframe tbody tr th:only-of-type {\n",
              "        vertical-align: middle;\n",
              "    }\n",
              "\n",
              "    .dataframe tbody tr th {\n",
              "        vertical-align: top;\n",
              "    }\n",
              "\n",
              "    .dataframe thead th {\n",
              "        text-align: right;\n",
              "    }\n",
              "</style>\n",
              "<table border=\"1\" class=\"dataframe\">\n",
              "  <thead>\n",
              "    <tr style=\"text-align: right;\">\n",
              "      <th></th>\n",
              "      <th>Class</th>\n",
              "      <th>Unnamed: 1</th>\n",
              "      <th>Text</th>\n",
              "    </tr>\n",
              "  </thead>\n",
              "  <tbody>\n",
              "    <tr>\n",
              "      <th>0</th>\n",
              "      <td>government</td>\n",
              "      <td>B-PERSON I-PERSON O B-LOCATION O B-MISC O</td>\n",
              "      <td>Corina Casanova , İsviçre Federal Şansölyesidir .</td>\n",
              "    </tr>\n",
              "    <tr>\n",
              "      <th>1</th>\n",
              "      <td>government</td>\n",
              "      <td>B-PERSON I-PERSON O B-MISC O O</td>\n",
              "      <td>Corina Casanova bir federal parlementerdir .</td>\n",
              "    </tr>\n",
              "    <tr>\n",
              "      <th>2</th>\n",
              "      <td>government</td>\n",
              "      <td>B-ORGANIZATION I-ORGANIZATION I-ORGANIZATION O...</td>\n",
              "      <td>İsviçre Dışişleri Bakanlığı , İsviçre federal ...</td>\n",
              "    </tr>\n",
              "    <tr>\n",
              "      <th>3</th>\n",
              "      <td>government</td>\n",
              "      <td>B-LOCATION O O O O O</td>\n",
              "      <td>İsviçre'nin dış ilişkilerini sürdürmekle görev...</td>\n",
              "    </tr>\n",
              "    <tr>\n",
              "      <th>4</th>\n",
              "      <td>government</td>\n",
              "      <td>B-MISC B-PERSON O O O O O O O O O O B-PERSON O...</td>\n",
              "      <td>Başbakan Milan Hoda , Südet Almanlarını yatışt...</td>\n",
              "    </tr>\n",
              "  </tbody>\n",
              "</table>\n",
              "</div>"
            ],
            "text/plain": [
              "        Class  ...                                               Text\n",
              "0  government  ...  Corina Casanova , İsviçre Federal Şansölyesidir .\n",
              "1  government  ...       Corina Casanova bir federal parlementerdir .\n",
              "2  government  ...  İsviçre Dışişleri Bakanlığı , İsviçre federal ...\n",
              "3  government  ...  İsviçre'nin dış ilişkilerini sürdürmekle görev...\n",
              "4  government  ...  Başbakan Milan Hoda , Südet Almanlarını yatışt...\n",
              "\n",
              "[5 rows x 3 columns]"
            ]
          },
          "metadata": {
            "tags": []
          },
          "execution_count": 5
        }
      ]
    },
    {
      "cell_type": "code",
      "metadata": {
        "id": "7hune8AKmVbs"
      },
      "source": [
        "dataset = dataset.drop(['Unnamed: 1'], axis=1)"
      ],
      "execution_count": 6,
      "outputs": []
    },
    {
      "cell_type": "code",
      "metadata": {
        "colab": {
          "base_uri": "https://localhost:8080/",
          "height": 204
        },
        "id": "LAY-nG_Ymy6y",
        "outputId": "c4c61b2d-a292-4843-bf76-7cf6df165655"
      },
      "source": [
        "dataset.head()"
      ],
      "execution_count": 7,
      "outputs": [
        {
          "output_type": "execute_result",
          "data": {
            "text/html": [
              "<div>\n",
              "<style scoped>\n",
              "    .dataframe tbody tr th:only-of-type {\n",
              "        vertical-align: middle;\n",
              "    }\n",
              "\n",
              "    .dataframe tbody tr th {\n",
              "        vertical-align: top;\n",
              "    }\n",
              "\n",
              "    .dataframe thead th {\n",
              "        text-align: right;\n",
              "    }\n",
              "</style>\n",
              "<table border=\"1\" class=\"dataframe\">\n",
              "  <thead>\n",
              "    <tr style=\"text-align: right;\">\n",
              "      <th></th>\n",
              "      <th>Class</th>\n",
              "      <th>Text</th>\n",
              "    </tr>\n",
              "  </thead>\n",
              "  <tbody>\n",
              "    <tr>\n",
              "      <th>0</th>\n",
              "      <td>government</td>\n",
              "      <td>Corina Casanova , İsviçre Federal Şansölyesidir .</td>\n",
              "    </tr>\n",
              "    <tr>\n",
              "      <th>1</th>\n",
              "      <td>government</td>\n",
              "      <td>Corina Casanova bir federal parlementerdir .</td>\n",
              "    </tr>\n",
              "    <tr>\n",
              "      <th>2</th>\n",
              "      <td>government</td>\n",
              "      <td>İsviçre Dışişleri Bakanlığı , İsviçre federal ...</td>\n",
              "    </tr>\n",
              "    <tr>\n",
              "      <th>3</th>\n",
              "      <td>government</td>\n",
              "      <td>İsviçre'nin dış ilişkilerini sürdürmekle görev...</td>\n",
              "    </tr>\n",
              "    <tr>\n",
              "      <th>4</th>\n",
              "      <td>government</td>\n",
              "      <td>Başbakan Milan Hoda , Südet Almanlarını yatışt...</td>\n",
              "    </tr>\n",
              "  </tbody>\n",
              "</table>\n",
              "</div>"
            ],
            "text/plain": [
              "        Class                                               Text\n",
              "0  government  Corina Casanova , İsviçre Federal Şansölyesidir .\n",
              "1  government       Corina Casanova bir federal parlementerdir .\n",
              "2  government  İsviçre Dışişleri Bakanlığı , İsviçre federal ...\n",
              "3  government  İsviçre'nin dış ilişkilerini sürdürmekle görev...\n",
              "4  government  Başbakan Milan Hoda , Südet Almanlarını yatışt..."
            ]
          },
          "metadata": {
            "tags": []
          },
          "execution_count": 7
        }
      ]
    },
    {
      "cell_type": "code",
      "metadata": {
        "id": "RrzsZ7SToAsn"
      },
      "source": [
        ""
      ],
      "execution_count": null,
      "outputs": []
    },
    {
      "cell_type": "code",
      "metadata": {
        "id": "uTf8QQosoAvD"
      },
      "source": [
        ""
      ],
      "execution_count": null,
      "outputs": []
    },
    {
      "cell_type": "code",
      "metadata": {
        "colab": {
          "base_uri": "https://localhost:8080/",
          "height": 173
        },
        "id": "vrcHDQDZm7Q5",
        "outputId": "811898a3-e505-4bb2-cd54-6708a53ebcd0"
      },
      "source": [
        "dataset.describe()"
      ],
      "execution_count": 8,
      "outputs": [
        {
          "output_type": "execute_result",
          "data": {
            "text/html": [
              "<div>\n",
              "<style scoped>\n",
              "    .dataframe tbody tr th:only-of-type {\n",
              "        vertical-align: middle;\n",
              "    }\n",
              "\n",
              "    .dataframe tbody tr th {\n",
              "        vertical-align: top;\n",
              "    }\n",
              "\n",
              "    .dataframe thead th {\n",
              "        text-align: right;\n",
              "    }\n",
              "</style>\n",
              "<table border=\"1\" class=\"dataframe\">\n",
              "  <thead>\n",
              "    <tr style=\"text-align: right;\">\n",
              "      <th></th>\n",
              "      <th>Class</th>\n",
              "      <th>Text</th>\n",
              "    </tr>\n",
              "  </thead>\n",
              "  <tbody>\n",
              "    <tr>\n",
              "      <th>count</th>\n",
              "      <td>533182</td>\n",
              "      <td>533182</td>\n",
              "    </tr>\n",
              "    <tr>\n",
              "      <th>unique</th>\n",
              "      <td>25</td>\n",
              "      <td>532583</td>\n",
              "    </tr>\n",
              "    <tr>\n",
              "      <th>top</th>\n",
              "      <td>people</td>\n",
              "      <td>2010 FIFA Dünya Kupası'ndaki maçlara ev sahipl...</td>\n",
              "    </tr>\n",
              "    <tr>\n",
              "      <th>freq</th>\n",
              "      <td>128929</td>\n",
              "      <td>3</td>\n",
              "    </tr>\n",
              "  </tbody>\n",
              "</table>\n",
              "</div>"
            ],
            "text/plain": [
              "         Class                                               Text\n",
              "count   533182                                             533182\n",
              "unique      25                                             532583\n",
              "top     people  2010 FIFA Dünya Kupası'ndaki maçlara ev sahipl...\n",
              "freq    128929                                                  3"
            ]
          },
          "metadata": {
            "tags": []
          },
          "execution_count": 8
        }
      ]
    },
    {
      "cell_type": "code",
      "metadata": {
        "colab": {
          "base_uri": "https://localhost:8080/",
          "height": 1000
        },
        "id": "4KQoxMbvm7bA",
        "outputId": "b8acf3f4-e431-4148-d633-cc10db94db8b"
      },
      "source": [
        "from collections import Counter\r\n",
        "import seaborn as sns\r\n",
        "import matplotlib.pyplot as plt\r\n",
        "sum_ = Counter(dataset['Class']).values()\r\n",
        "class_ = Counter(dataset['Class']).keys()\r\n",
        "df_class = pd.DataFrame(zip(class_,sum_), columns = ['Class', 'Toplam'])\r\n",
        "plt.figure(figsize=(20,10))\r\n",
        "sns.set(color_codes=True)\r\n",
        "sns.distplot(df_class.Toplam,rug = True, kde_kws={\"color\": \"k\"}, hist_kws={\"color\" : \"r\"});\r\n",
        "plt.savefig('/content/drive/My Drive/uygulama/sınıfdagilim2.png')\r\n",
        "plt.figure(figsize=(30,10))\r\n",
        "sns.set(color_codes=True)\r\n",
        "#sns.lineplot(x = \"Class\", y = \"Toplam\", data = df_class, ax = ax[0,0]);\r\n",
        "sns.barplot(x = \"Class\", y = \"Toplam\", data = df_class, palette=\"vlag\")\r\n",
        "plt.savefig('/content/drive/My Drive/uygulama/sınıfdagılım.png')"
      ],
      "execution_count": 9,
      "outputs": [
        {
          "output_type": "stream",
          "text": [
            "/usr/local/lib/python3.6/dist-packages/seaborn/distributions.py:2551: FutureWarning: `distplot` is a deprecated function and will be removed in a future version. Please adapt your code to use either `displot` (a figure-level function with similar flexibility) or `histplot` (an axes-level function for histograms).\n",
            "  warnings.warn(msg, FutureWarning)\n",
            "/usr/local/lib/python3.6/dist-packages/seaborn/distributions.py:2055: FutureWarning: The `axis` variable is no longer used and will be removed. Instead, assign variables directly to `x` or `y`.\n",
            "  warnings.warn(msg, FutureWarning)\n"
          ],
          "name": "stderr"
        },
        {
          "output_type": "display_data",
          "data": {
            "image/png": "[encoded data removed]",
            "text/plain": [
              "<Figure size 1440x720 with 1 Axes>"
            ]
          },
          "metadata": {
            "tags": [],
            "needs_background": "light"
          }
        },
        {
          "output_type": "display_data",
          "data": {
            "image/png": "[encoded data removed]",
            "text/plain": [
              "<Figure size 2160x720 with 1 Axes>"
            ]
          },
          "metadata": {
            "tags": []
          }
        }
      ]
    },
    {
      "cell_type": "code",
      "metadata": {
        "id": "3i18c6zCm7fC"
      },
      "source": [
        "dataset['Text'] = dataset['Text'].apply(lambda x: x.lower())"
      ],
      "execution_count": 11,
      "outputs": []
    },
    {
      "cell_type": "code",
      "metadata": {
        "colab": {
          "base_uri": "https://localhost:8080/",
          "height": 272
        },
        "id": "JGAOoTqWm7hY",
        "outputId": "08e22e49-8415-4fd3-ef8c-e916835170eb"
      },
      "source": [
        "dataset['Text'] = dataset['Text'].apply(lambda x: .sub(\"[,'\\.!?();:$%&#]\", '', x))"
      ],
      "execution_count": 13,
      "outputs": [
        {
          "output_type": "error",
          "ename": "AttributeError",
          "evalue": "ignored",
          "traceback": [
            "\u001b[0;31m---------------------------------------------------------------------------\u001b[0m",
            "\u001b[0;31mAttributeError\u001b[0m                            Traceback (most recent call last)",
            "\u001b[0;32m<ipython-input-13-01897fef62c5>\u001b[0m in \u001b[0;36m<module>\u001b[0;34m()\u001b[0m\n\u001b[0;32m----> 1\u001b[0;31m \u001b[0mdataset\u001b[0m\u001b[0;34m[\u001b[0m\u001b[0;34m'Text'\u001b[0m\u001b[0;34m]\u001b[0m \u001b[0;34m=\u001b[0m \u001b[0mdataset\u001b[0m\u001b[0;34m[\u001b[0m\u001b[0;34m'Text'\u001b[0m\u001b[0;34m]\u001b[0m\u001b[0;34m.\u001b[0m\u001b[0mapply\u001b[0m\u001b[0;34m(\u001b[0m\u001b[0;32mlambda\u001b[0m \u001b[0mx\u001b[0m\u001b[0;34m:\u001b[0m \u001b[0mx\u001b[0m\u001b[0;34m.\u001b[0m\u001b[0msub\u001b[0m\u001b[0;34m(\u001b[0m\u001b[0;34m\"[,'\\.!?();:$%&#]\"\u001b[0m\u001b[0;34m,\u001b[0m \u001b[0;34m''\u001b[0m\u001b[0;34m,\u001b[0m \u001b[0mx\u001b[0m\u001b[0;34m)\u001b[0m\u001b[0;34m)\u001b[0m\u001b[0;34m\u001b[0m\u001b[0;34m\u001b[0m\u001b[0m\n\u001b[0m",
            "\u001b[0;32m/usr/local/lib/python3.6/dist-packages/pandas/core/series.py\u001b[0m in \u001b[0;36mapply\u001b[0;34m(self, func, convert_dtype, args, **kwds)\u001b[0m\n\u001b[1;32m   4211\u001b[0m             \u001b[0;32melse\u001b[0m\u001b[0;34m:\u001b[0m\u001b[0;34m\u001b[0m\u001b[0;34m\u001b[0m\u001b[0m\n\u001b[1;32m   4212\u001b[0m                 \u001b[0mvalues\u001b[0m \u001b[0;34m=\u001b[0m \u001b[0mself\u001b[0m\u001b[0;34m.\u001b[0m\u001b[0mastype\u001b[0m\u001b[0;34m(\u001b[0m\u001b[0mobject\u001b[0m\u001b[0;34m)\u001b[0m\u001b[0;34m.\u001b[0m\u001b[0m_values\u001b[0m\u001b[0;34m\u001b[0m\u001b[0;34m\u001b[0m\u001b[0m\n\u001b[0;32m-> 4213\u001b[0;31m                 \u001b[0mmapped\u001b[0m \u001b[0;34m=\u001b[0m \u001b[0mlib\u001b[0m\u001b[0;34m.\u001b[0m\u001b[0mmap_infer\u001b[0m\u001b[0;34m(\u001b[0m\u001b[0mvalues\u001b[0m\u001b[0;34m,\u001b[0m \u001b[0mf\u001b[0m\u001b[0;34m,\u001b[0m \u001b[0mconvert\u001b[0m\u001b[0;34m=\u001b[0m\u001b[0mconvert_dtype\u001b[0m\u001b[0;34m)\u001b[0m\u001b[0;34m\u001b[0m\u001b[0;34m\u001b[0m\u001b[0m\n\u001b[0m\u001b[1;32m   4214\u001b[0m \u001b[0;34m\u001b[0m\u001b[0m\n\u001b[1;32m   4215\u001b[0m         \u001b[0;32mif\u001b[0m \u001b[0mlen\u001b[0m\u001b[0;34m(\u001b[0m\u001b[0mmapped\u001b[0m\u001b[0;34m)\u001b[0m \u001b[0;32mand\u001b[0m \u001b[0misinstance\u001b[0m\u001b[0;34m(\u001b[0m\u001b[0mmapped\u001b[0m\u001b[0;34m[\u001b[0m\u001b[0;36m0\u001b[0m\u001b[0;34m]\u001b[0m\u001b[0;34m,\u001b[0m \u001b[0mSeries\u001b[0m\u001b[0;34m)\u001b[0m\u001b[0;34m:\u001b[0m\u001b[0;34m\u001b[0m\u001b[0;34m\u001b[0m\u001b[0m\n",
            "\u001b[0;32mpandas/_libs/lib.pyx\u001b[0m in \u001b[0;36mpandas._libs.lib.map_infer\u001b[0;34m()\u001b[0m\n",
            "\u001b[0;32m<ipython-input-13-01897fef62c5>\u001b[0m in \u001b[0;36m<lambda>\u001b[0;34m(x)\u001b[0m\n\u001b[0;32m----> 1\u001b[0;31m \u001b[0mdataset\u001b[0m\u001b[0;34m[\u001b[0m\u001b[0;34m'Text'\u001b[0m\u001b[0;34m]\u001b[0m \u001b[0;34m=\u001b[0m \u001b[0mdataset\u001b[0m\u001b[0;34m[\u001b[0m\u001b[0;34m'Text'\u001b[0m\u001b[0;34m]\u001b[0m\u001b[0;34m.\u001b[0m\u001b[0mapply\u001b[0m\u001b[0;34m(\u001b[0m\u001b[0;32mlambda\u001b[0m \u001b[0mx\u001b[0m\u001b[0;34m:\u001b[0m \u001b[0mx\u001b[0m\u001b[0;34m.\u001b[0m\u001b[0msub\u001b[0m\u001b[0;34m(\u001b[0m\u001b[0;34m\"[,'\\.!?();:$%&#]\"\u001b[0m\u001b[0;34m,\u001b[0m \u001b[0;34m''\u001b[0m\u001b[0;34m,\u001b[0m \u001b[0mx\u001b[0m\u001b[0;34m)\u001b[0m\u001b[0;34m)\u001b[0m\u001b[0;34m\u001b[0m\u001b[0;34m\u001b[0m\u001b[0m\n\u001b[0m",
            "\u001b[0;31mAttributeError\u001b[0m: 'str' object has no attribute 'sub'"
          ]
        }
      ]
    },
    {
      "cell_type": "code",
      "metadata": {
        "colab": {
          "base_uri": "https://localhost:8080/"
        },
        "id": "ttBk3Zqmn2Vf",
        "outputId": "93ccb7e8-c7fc-4da1-8f35-66a552d359ba"
      },
      "source": [
        "\r\n",
        "dataset['Text'] = dataset['Text'].apply(lambda x: x.strip())\r\n",
        "import nltk\r\n",
        "nltk.download('stopwords')\r\n",
        "WPT = nltk.WordPunctTokenizer()\r\n",
        "stop_word_list = nltk.corpus.stopwords.words('turkish')\r\n",
        "def stopword_extraction(values):\r\n",
        "    wordFilter = [word for word in values.split() if word not in stop_word_list]\r\n",
        "    notStopword = \" \".join(wordFilter)\r\n",
        "    return notStopword\r\n",
        " \r\n",
        "dataset['Text'] = dataset['Text'].apply(lambda x: stopword_extraction(x))"
      ],
      "execution_count": 14,
      "outputs": [
        {
          "output_type": "stream",
          "text": [
            "[nltk_data] Downloading package stopwords to /root/nltk_data...\n",
            "[nltk_data]   Unzipping corpora/stopwords.zip.\n"
          ],
          "name": "stdout"
        }
      ]
    },
    {
      "cell_type": "code",
      "metadata": {
        "colab": {
          "base_uri": "https://localhost:8080/",
          "height": 204
        },
        "id": "IBMQHfhxoCPF",
        "outputId": "fa2606f9-b37f-4ad9-8f5c-12e3b515dab6"
      },
      "source": [
        "dataset.head()"
      ],
      "execution_count": 15,
      "outputs": [
        {
          "output_type": "execute_result",
          "data": {
            "text/html": [
              "<div>\n",
              "<style scoped>\n",
              "    .dataframe tbody tr th:only-of-type {\n",
              "        vertical-align: middle;\n",
              "    }\n",
              "\n",
              "    .dataframe tbody tr th {\n",
              "        vertical-align: top;\n",
              "    }\n",
              "\n",
              "    .dataframe thead th {\n",
              "        text-align: right;\n",
              "    }\n",
              "</style>\n",
              "<table border=\"1\" class=\"dataframe\">\n",
              "  <thead>\n",
              "    <tr style=\"text-align: right;\">\n",
              "      <th></th>\n",
              "      <th>Class</th>\n",
              "      <th>Text</th>\n",
              "    </tr>\n",
              "  </thead>\n",
              "  <tbody>\n",
              "    <tr>\n",
              "      <th>0</th>\n",
              "      <td>government</td>\n",
              "      <td>corina casanova , i̇sviçre federal şansölyesid...</td>\n",
              "    </tr>\n",
              "    <tr>\n",
              "      <th>1</th>\n",
              "      <td>government</td>\n",
              "      <td>corina casanova bir federal parlementerdir .</td>\n",
              "    </tr>\n",
              "    <tr>\n",
              "      <th>2</th>\n",
              "      <td>government</td>\n",
              "      <td>i̇sviçre dışişleri bakanlığı , i̇sviçre federa...</td>\n",
              "    </tr>\n",
              "    <tr>\n",
              "      <th>3</th>\n",
              "      <td>government</td>\n",
              "      <td>i̇sviçre'nin dış ilişkilerini sürdürmekle göre...</td>\n",
              "    </tr>\n",
              "    <tr>\n",
              "      <th>4</th>\n",
              "      <td>government</td>\n",
              "      <td>başbakan milan hoda , südet almanlarını yatışt...</td>\n",
              "    </tr>\n",
              "  </tbody>\n",
              "</table>\n",
              "</div>"
            ],
            "text/plain": [
              "        Class                                               Text\n",
              "0  government  corina casanova , i̇sviçre federal şansölyesid...\n",
              "1  government       corina casanova bir federal parlementerdir .\n",
              "2  government  i̇sviçre dışişleri bakanlığı , i̇sviçre federa...\n",
              "3  government  i̇sviçre'nin dış ilişkilerini sürdürmekle göre...\n",
              "4  government  başbakan milan hoda , südet almanlarını yatışt..."
            ]
          },
          "metadata": {
            "tags": []
          },
          "execution_count": 15
        }
      ]
    },
    {
      "cell_type": "code",
      "metadata": {
        "id": "Mr9UGC_UoCRN"
      },
      "source": [
        "from keras.preprocessing.text import Tokenizer\r\n",
        "from keras.preprocessing.sequence import pad_sequences\r\n",
        "tokenizer = Tokenizer(num_words=10000)\r\n",
        "tokenizer.fit_on_texts(dataset.Text)"
      ],
      "execution_count": 16,
      "outputs": []
    },
    {
      "cell_type": "code",
      "metadata": {
        "id": "4zqt36kgoLXI"
      },
      "source": [
        "import numpy as np\r\n",
        "num_tokens = [len(tokens) for tokens in dataset['Text']]\r\n",
        "num_tokens = np.array(num_tokens)\r\n",
        "max_tokens = np.mean(num_tokens) + 2 * np.std(num_tokens)\r\n",
        "max_tokens = int(max_tokens)"
      ],
      "execution_count": 18,
      "outputs": []
    },
    {
      "cell_type": "code",
      "metadata": {
        "id": "dYQWpeMCoLaC"
      },
      "source": [
        "X = tokenizer.texts_to_sequences(dataset['Text'])\r\n",
        "X_pad = pad_sequences(X, maxlen=max_tokens)"
      ],
      "execution_count": 19,
      "outputs": []
    },
    {
      "cell_type": "code",
      "metadata": {
        "id": "Q5U-wHvIoLf6"
      },
      "source": [
        "Y = pd.get_dummies(dataset['Class']).values\r\n",
        "from sklearn.model_selection import train_test_split\r\n",
        "x_train, x_test, y_train, y_test = train_test_split(X_pad, Y, test_size = 0.25, random_state = 42)"
      ],
      "execution_count": 20,
      "outputs": []
    },
    {
      "cell_type": "code",
      "metadata": {
        "colab": {
          "base_uri": "https://localhost:8080/"
        },
        "id": "q4bWNg4uoZ1s",
        "outputId": "2e83d70f-eb0f-493d-c333-fdc8447d737e"
      },
      "source": [
        "from keras.models import Sequential\r\n",
        "from keras.layers import Dense, Embedding,LSTM, Dropout\r\n",
        "from keras.optimizers import Adam\r\n",
        "num_labes = len(dataset.Class.unique())\r\n",
        "embedding_size = max_tokens\r\n",
        "model = Sequential()\r\n",
        "model.add(Embedding(input_dim=10000,\r\n",
        "                    output_dim=embedding_size,\r\n",
        "                    input_length=max_tokens,\r\n",
        "                    name='embedding_layer'))\r\n",
        "model.add(LSTM(units=128,dropout = 0.2, return_sequences=True))\r\n",
        "model.add(LSTM(units=128,dropout = 0.2, return_sequences=False))\r\n",
        "model.add(Dense(num_labes, activation = 'softmax'))\r\n",
        "model.compile(loss = 'categorical_crossentropy', optimizer = \"adam\", metrics=['accuracy'])\r\n",
        "model.summary()"
      ],
      "execution_count": 21,
      "outputs": [
        {
          "output_type": "stream",
          "text": [
            "Model: \"sequential\"\n",
            "_________________________________________________________________\n",
            "Layer (type)                 Output Shape              Param #   \n",
            "=================================================================\n",
            "embedding_layer (Embedding)  (None, 325, 325)          3250000   \n",
            "_________________________________________________________________\n",
            "lstm (LSTM)                  (None, 325, 128)          232448    \n",
            "_________________________________________________________________\n",
            "lstm_1 (LSTM)                (None, 128)               131584    \n",
            "_________________________________________________________________\n",
            "dense (Dense)                (None, 25)                3225      \n",
            "=================================================================\n",
            "Total params: 3,617,257\n",
            "Trainable params: 3,617,257\n",
            "Non-trainable params: 0\n",
            "_________________________________________________________________\n"
          ],
          "name": "stdout"
        }
      ]
    },
    {
      "cell_type": "code",
      "metadata": {
        "colab": {
          "base_uri": "https://localhost:8080/"
        },
        "id": "SkyeW4WZoZ4Q",
        "outputId": "50385133-f4cb-4bf5-cffa-30d9cbc73b81"
      },
      "source": [
        "history = model.fit(x_train, y_train, validation_split=0.20, epochs=20,batch_size=1024)"
      ],
      "execution_count": null,
      "outputs": [
        {
          "output_type": "stream",
          "text": [
            "Epoch 1/20\n",
            "137/313 [============>.................] - ETA: 57:44 - loss: 2.5702 - accuracy: 0.2759"
          ],
          "name": "stdout"
        }
      ]
    },
    {
      "cell_type": "code",
      "metadata": {
        "id": "sbTfrk-CoZ7A"
      },
      "source": [
        "loss, acc = model.evaluate(x_test, y_test)\r\n",
        "print(loss,acc)"
      ],
      "execution_count": null,
      "outputs": []
    },
    {
      "cell_type": "code",
      "metadata": {
        "id": "vjG47Agxo1gt"
      },
      "source": [
        "from imblearn.under_sampling import RandomUnderSampler\r\n",
        "rus = RandomUnderSampler(random_state = 0, sampling_strategy = \"majority\")\r\n",
        "x_rus, y_rus = rus.fit_resample(X_pad, Y)"
      ],
      "execution_count": null,
      "outputs": []
    },
    {
      "cell_type": "code",
      "metadata": {
        "id": "9mX2U8Oio1jM"
      },
      "source": [
        "from sklearn.model_selection import train_test_split\r\n",
        "x_train, x_test, y_train, y_test = train_test_split(x_rus, y_rus, test_size = 0.25, random_state = 42)"
      ],
      "execution_count": null,
      "outputs": []
    },
    {
      "cell_type": "code",
      "metadata": {
        "id": "NX_E9yyuo1lg"
      },
      "source": [
        "model2 = Sequential()\r\n",
        "model2.add(Embedding(input_dim=10000,\r\n",
        "                    output_dim=embedding_size,\r\n",
        "                    input_length=max_tokens,\r\n",
        "                    name='embedding_layer'))\r\n",
        "model2.add(LSTM(units=128,dropout = 0.2, return_sequences=True))\r\n",
        "model2.add(LSTM(units=128,dropout = 0.2, return_sequences=False))\r\n",
        "model2.add(Dense(num_labes, activation = 'softmax'))\r\n",
        "model2.compile(loss = 'categorical_crossentropy', optimizer = \"adam\", metrics=['accuracy'])\r\n",
        "model2.summary()"
      ],
      "execution_count": null,
      "outputs": []
    },
    {
      "cell_type": "code",
      "metadata": {
        "id": "0mdIEzbzo1ns"
      },
      "source": [
        "history2 = model2.fit(x_train, y_train, validation_split=0.20, epochs=20,batch_size=1024)"
      ],
      "execution_count": null,
      "outputs": []
    },
    {
      "cell_type": "code",
      "metadata": {
        "id": "H4yUAt_ao8eh"
      },
      "source": [
        "loss2, acc2 = model2.evaluate(x_test, y_test)\r\n",
        "print(\"loss 2 : {}, acc 2 : {}\".format(loss2,acc2))"
      ],
      "execution_count": null,
      "outputs": []
    },
    {
      "cell_type": "code",
      "metadata": {
        "id": "XzZFHZwWo8g3"
      },
      "source": [
        "plt.figure(figsize = (15,10))\r\n",
        "plt.plot(history2.history['accuracy'])\r\n",
        "plt.plot(history2.history['val_accuracy'])\r\n",
        "plt.plot(history.history['accuracy'])\r\n",
        "plt.plot(history.history['val_accuracy'])\r\n",
        "plt.legend(['Train2', 'Test2','Train1', 'Test1'], loc='upper left')\r\n",
        "plt.title('Model accuracy')\r\n",
        "plt.ylabel('Accuracy')\r\n",
        "plt.xlabel('Epoch')"
      ],
      "execution_count": null,
      "outputs": []
    },
    {
      "cell_type": "code",
      "metadata": {
        "id": "2qZRdf1ao8je"
      },
      "source": [
        "from keras.utils import plot_model, model_to_dot\r\n",
        "plot_model(model2, show_shapes=True)"
      ],
      "execution_count": null,
      "outputs": []
    },
    {
      "cell_type": "code",
      "metadata": {
        "id": "UhMJwP1ZpCkK"
      },
      "source": [
        "y_pred2 = model2.predict_classes(x_test,batch_size=1024, verbose=0)\r\n",
        "rounded_labels2=np.argmax(y_test, axis=1)\r\n",
        "cm2 = confusion_matrix(rounded_labels2, y_pred2)\r\n",
        "plt.figure(figsize=(35,15))\r\n",
        "df2 = pd.DataFrame(cm2, columns=np.unique(dataset['Class']),index=np.unique(dataset['Class']))\r\n",
        "sns.set(font_scale=1.2)\r\n",
        "sns.heatmap(df2, annot=True, annot_kws={'size': 16});"
      ],
      "execution_count": null,
      "outputs": []
    },
    {
      "cell_type": "code",
      "metadata": {
        "id": "jMRk-H4FpCmo"
      },
      "source": [
        ""
      ],
      "execution_count": null,
      "outputs": []
    },
    {
      "cell_type": "code",
      "metadata": {
        "id": "QTGz4IPLpCpH"
      },
      "source": [
        ""
      ],
      "execution_count": null,
      "outputs": []
    }
  ]
}