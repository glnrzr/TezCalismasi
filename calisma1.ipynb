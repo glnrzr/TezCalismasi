{
  "nbformat": 4,
  "nbformat_minor": 0,
  "metadata": {
    "colab": {
      "name": "Untitled17.ipynb",
      "provenance": [],
      "authorship_tag": "ABX9TyOMAG3SuX4D5AHhSlBk7i4i",
      "include_colab_link": true
    },
    "kernelspec": {
      "name": "python3",
      "display_name": "Python 3"
    }
  },
  "cells": [
    {
      "cell_type": "markdown",
      "metadata": {
        "id": "view-in-github",
        "colab_type": "text"
      },
      "source": [
        "<a href=\"https://colab.research.google.com/github/glnrzr/TezCalismasi/blob/master/calisma1.ipynb\" target=\"_parent\"><img src=\"https://colab.research.google.com/assets/colab-badge.svg\" alt=\"Open In Colab\"/></a>"
      ]
    },
    {
      "cell_type": "code",
      "metadata": {
        "id": "2xxMil9W5997",
        "colab_type": "code",
        "colab": {}
      },
      "source": [
        "!apt-get install -y -qq software-properties-common python-software-properties module-init-tools\n",
        "!add-apt-repository -y ppa:alessandro-strada/ppa 2>&1 > /dev/null\n",
        "!apt-get update -qq 2>&1 > /dev/null\n",
        "!apt-get -y install -qq google-drive-ocamlfuse fuse\n",
        "from google.colab import auth\n",
        "auth.authenticate_user()\n",
        "from oauth2client.client import GoogleCredentials\n",
        "creds = GoogleCredentials.get_application_default()\n",
        "import getpass\n",
        "!google-drive-ocamlfuse -headless -id={creds.client_id} -secret={creds.client_secret} < /dev/null 2>&1 | grep URL\n",
        "vcode = getpass.getpass()\n",
        "!echo {vcode} | google-drive-ocamlfuse -headless -id={creds.client_id} -secret={creds.client_secret}"
      ],
      "execution_count": 0,
      "outputs": []
    },
    {
      "cell_type": "code",
      "metadata": {
        "id": "VyKLVnGy6FKb",
        "colab_type": "code",
        "colab": {}
      },
      "source": [
        "!mkdir -p drive\n",
        "!google-drive-ocamlfuse drive"
      ],
      "execution_count": 0,
      "outputs": []
    },
    {
      "cell_type": "code",
      "metadata": {
        "id": "vBrxdK7n6FED",
        "colab_type": "code",
        "colab": {}
      },
      "source": [
        "cd /content/drive/Colab Notebooks/full_version"
      ],
      "execution_count": 0,
      "outputs": []
    },
    {
      "cell_type": "code",
      "metadata": {
        "id": "nz-dafCK6Eum",
        "colab_type": "code",
        "colab": {}
      },
      "source": [
        "import numpy as np\n",
        "import os\n",
        "\n",
        "miniData = []\n",
        "filenames = ['ekonomi100k.txt', 'politika100k.txt', 'spor100k.txt']\n",
        "for fname in filenames:\n",
        "    with open(fname) as infile:\n",
        "        for line in infile:\n",
        "            try:\n",
        "              _Y, _X = line.strip().split(\"\\t\")\n",
        "              miniData.append([_X, _Y])\n",
        "            except Exception as e:\n",
        "              print line\n",
        "              #print(e)\n",
        "              pass\n",
        "np.random.shuffle(miniData)\n",
        "train_x = [x[0] for x in miniData]\n",
        "train_y = np.asarray([x[1] for x in miniData])\n",
        "miniData = None\n",
        "#print train_x[0] , \" \" , train_y[0]\n",
        "#print train_x[1] , \" \" , train_y[1]\n",
        "\n",
        "num_of_classes = len(np.unique(train_y))"
      ],
      "execution_count": 0,
      "outputs": []
    },
    {
      "cell_type": "code",
      "metadata": {
        "id": "jmhRXTp66ETo",
        "colab_type": "code",
        "colab": {}
      },
      "source": [
        "i = 0\n",
        "for val in train_y:\n",
        "  if val == '3':\n",
        "    i = i+1\n",
        "print i\n"
      ],
      "execution_count": 0,
      "outputs": []
    },
    {
      "cell_type": "code",
      "metadata": {
        "id": "8zzHJ0z_6D0T",
        "colab_type": "code",
        "colab": {}
      },
      "source": [
        "from sklearn.preprocessing import LabelEncoder\n",
        "from keras.utils import np_utils\n",
        "\n",
        "# encode class values as integers\n",
        "encoder = LabelEncoder()\n",
        "encoder.fit(train_y)\n",
        "encoded_Y = encoder.transform(train_y)\n",
        "# convert integers to dummy variables (i.e. one hot encoded)\n",
        "train_y = np_utils.to_categorical(encoded_Y)"
      ],
      "execution_count": 0,
      "outputs": []
    },
    {
      "cell_type": "code",
      "metadata": {
        "id": "IxK6k43E6DnR",
        "colab_type": "code",
        "colab": {}
      },
      "source": [
        "import json\n",
        "import keras\n",
        "import keras.preprocessing.text as kpt\n",
        "from keras.preprocessing.text import Tokenizer\n",
        "\n",
        "max_words = 3000\n",
        "\n",
        "tokenizer = Tokenizer(num_words=max_words)\n",
        "tokenizer.fit_on_texts(train_x)\n",
        "dictionary = tokenizer.word_index\n",
        "\n",
        "with open('dictionary.json', 'w') as dictionary_file:\n",
        "    json.dump(dictionary, dictionary_file)\n",
        "\n",
        "\n",
        "def convert_text_to_index_array(text):\n",
        "    return [dictionary[word] for word in kpt.text_to_word_sequence(text)]\n",
        "\n",
        "\n",
        "allWordIndices = []\n",
        "for text in train_x:\n",
        "    wordIndices = convert_text_to_index_array(text)\n",
        "    allWordIndices.append(wordIndices)\n",
        "\n",
        "allWordIndices = np.asarray(allWordIndices)\n",
        "train_x = tokenizer.sequences_to_matrix(allWordIndices, mode='binary')\n",
        "#train_y = keras.utils.to_categorical(train_y, 4)"
      ],
      "execution_count": 0,
      "outputs": []
    },
    {
      "cell_type": "code",
      "metadata": {
        "id": "mLfP8Yv96DlD",
        "colab_type": "code",
        "colab": {}
      },
      "source": [
        "convert_text_to_index_array(\"komutan suriyede bin askerimiz var dogal\")"
      ],
      "execution_count": 0,
      "outputs": []
    },
    {
      "cell_type": "code",
      "metadata": {
        "id": "Z3bku-Ev6DdK",
        "colab_type": "code",
        "colab": {}
      },
      "source": [
        "import h5py\n",
        "with h5py.File('train_x.h5', 'w') as hf:\n",
        "    hf.create_dataset(\"three-class-all\",  data=train_x)"
      ],
      "execution_count": 0,
      "outputs": []
    },
    {
      "cell_type": "code",
      "metadata": {
        "id": "XVzANYti9seM",
        "colab_type": "code",
        "colab": {}
      },
      "source": [
        "from keras.models import Sequential\n",
        "from keras.layers import Dense, Dropout, Activation\n",
        "\n",
        "model = Sequential()\n",
        "model.add(Dense(512, input_shape=(max_words,), activation='relu'))\n",
        "model.add(Dropout(0.5))\n",
        "model.add(Dense(256, activation='sigmoid'))\n",
        "model.add(Dropout(0.5))\n",
        "model.add(Dense(num_of_classes, activation='softmax'))"
      ],
      "execution_count": 0,
      "outputs": []
    },
    {
      "cell_type": "code",
      "metadata": {
        "id": "lhGl61-99HyH",
        "colab_type": "code",
        "colab": {}
      },
      "source": [
        "model.compile(loss='categorical_crossentropy',\n",
        "  optimizer='adam',\n",
        "  metrics=['accuracy'])\n",
        "\n",
        "model.fit(train_x, train_y,\n",
        "  batch_size=32,\n",
        "  epochs=5,\n",
        "  verbose=1,\n",
        "  validation_split=0.1,\n",
        "  shuffle=True)"
      ],
      "execution_count": 0,
      "outputs": []
    },
    {
      "cell_type": "code",
      "metadata": {
        "id": "_90BoLfJ9HqR",
        "colab_type": "code",
        "colab": {}
      },
      "source": [
        "#save the model\n",
        "model_json = model.to_json()\n",
        "with open('model.json', 'w') as json_file:\n",
        "    json_file.write(model_json)\n",
        "\n",
        "model.save_weights('model.h5')"
      ],
      "execution_count": 0,
      "outputs": []
    },
    {
      "cell_type": "code",
      "metadata": {
        "id": "TH4DWSOS9afY",
        "colab_type": "code",
        "colab": {}
      },
      "source": [
        "def turkcelestir(metin):\n",
        "  metin = metin.decode(\"utf-8\") # because u'string'.translate\n",
        "  turkce = {ord(c): ord(t) for c, t in zip(u\"ÇĞİÖŞÜçğıöşü\", u\"CGIOSUcgiosu\")}\n",
        "  #print metin.translate(turkce)\n",
        "  return metin.translate(turkce)"
      ],
      "execution_count": 0,
      "outputs": []
    },
    {
      "cell_type": "code",
      "metadata": {
        "id": "XXv9ty4x9eUq",
        "colab_type": "code",
        "colab": {}
      },
      "source": [
        "turkcelestir('ömer çaydanlık Ğözde')\n",
        "txt1 = 'Bingöl de 24 Mayıs 1993 tarihinde'\n",
        "print turkcelestir(txt1)\n",
        "#txt1 = txt1.replace('\\n', ' ')"
      ],
      "execution_count": 0,
      "outputs": []
    },
    {
      "cell_type": "code",
      "metadata": {
        "id": "DFPmUVON9jk8",
        "colab_type": "code",
        "colab": {}
      },
      "source": [
        "import json\n",
        "import numpy as np\n",
        "import keras\n",
        "import keras.preprocessing.text as kpt\n",
        "from keras.preprocessing.text import Tokenizer\n",
        "from keras.models import model_from_json\n",
        "\n",
        "# we're still going to use a Tokenizer here, but we don't need to fit it\n",
        "tokenizer = Tokenizer(num_words=3000)\n",
        "# for human-friendly printing\n",
        "labels = ['politika', 'spor', 'ekonomi']\n",
        "\n",
        "# read in our saved dictionary\n",
        "with open('dictionary.json', 'r') as dictionary_file:\n",
        "    dictionary = json.load(dictionary_file)\n",
        "\n",
        "# this utility makes sure that all the words in your input\n",
        "# are registered in the dictionary\n",
        "# before trying to turn them into a matrix.\n",
        "def convert_text_to_index_array(text):\n",
        "    words = kpt.text_to_word_sequence(text)\n",
        "    wordIndices = []\n",
        "    for word in words:\n",
        "        if word in dictionary:\n",
        "            wordIndices.append(dictionary[word])\n",
        "        else:\n",
        "            print(\"'%s' not in training corpus; ignoring.\" %(word))\n",
        "    return wordIndices\n",
        "\n",
        "# read in your saved model structure\n",
        "json_file = open('model.json', 'r')\n",
        "loaded_model_json = json_file.read()\n",
        "json_file.close()\n",
        "# and create a model from that\n",
        "model = model_from_json(loaded_model_json)\n",
        "# and weight your nodes with your saved values\n",
        "model.load_weights('model.h5')\n",
        "\n",
        "# okay here's the interactive part\n",
        "while 1:\n",
        "    evalSentence = raw_input('Test için bir cümle girin, çıkmak için Enter: ')\n",
        "\n",
        "    if len(evalSentence) == 0:\n",
        "        break\n",
        "\n",
        "    # format your input for the neural net\n",
        "    evalSentence = turkcelestir(evalSentence)\n",
        "    testArr = convert_text_to_index_array(evalSentence)\n",
        "    input = tokenizer.sequences_to_matrix([testArr], mode='binary')\n",
        "    # predict which bucket your input belongs in\n",
        "    pred = model.predict(input)\n",
        "    # and print it for the humons\n",
        "    print(\"Tahmin edilen sınıf: %s ; %f%% confidence\" % (labels[np.argmax(pred)], pred[0][np.argmax(pred)] * 100))"
      ],
      "execution_count": 0,
      "outputs": []
    }
  ]
}