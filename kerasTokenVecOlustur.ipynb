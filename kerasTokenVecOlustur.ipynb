{
  "nbformat": 4,
  "nbformat_minor": 0,
  "metadata": {
    "colab": {
      "name": "Untitled9.ipynb",
      "provenance": [],
      "toc_visible": true,
      "authorship_tag": "ABX9TyOZPaVGFyafSWXf3BonyUQ1",
      "include_colab_link": true
    },
    "kernelspec": {
      "name": "python3",
      "display_name": "Python 3"
    }
  },
  "cells": [
    {
      "cell_type": "markdown",
      "metadata": {
        "id": "view-in-github",
        "colab_type": "text"
      },
      "source": [
        "<a href=\"https://colab.research.google.com/github/glnrzr/TezCalismasi/blob/master/kerasTokenVecOlustur.ipynb\" target=\"_parent\"><img src=\"https://colab.research.google.com/assets/colab-badge.svg\" alt=\"Open In Colab\"/></a>"
      ]
    },
    {
      "cell_type": "code",
      "metadata": {
        "id": "sSkONNAcMH_C",
        "colab_type": "code",
        "colab": {}
      },
      "source": [
        "import os\n",
        "\n",
        "#Text dosyaları data isimli klasör içerisinde olsun\n",
        "dataAl = os.getcwd()\n",
        "corpus = os.path.join(BASE_DIR, 'data')"
      ],
      "execution_count": 0,
      "outputs": []
    },
    {
      "cell_type": "code",
      "metadata": {
        "id": "J7JbzdeEMInq",
        "colab_type": "code",
        "colab": {}
      },
      "source": [
        "egitim_X = []\n",
        "#data klasöründeki tüm dosyaları teker teker oku\n",
        "for name in sorted(os.listdir(corpus)):\n",
        "    fname = os.path.join(corpus, name)\n",
        "    #dosya uzantısı .txt ise \n",
        "    if fname.endswith(\".txt\"):\n",
        "        with open(fname) as infile:\n",
        "            for line in infile:\n",
        "                #satır başı ve sonu dışındaki olası boşlukları temizle\n",
        "                line = line.strip()\n",
        "                try:\n",
        "                  egitim_X.append(line)\n",
        "                except Exception as e:\n",
        "                  print(e)"
      ],
      "execution_count": 0,
      "outputs": []
    },
    {
      "cell_type": "code",
      "metadata": {
        "id": "aa9x15dn2Qed",
        "colab_type": "code",
        "colab": {
          "base_uri": "https://localhost:8080/",
          "height": 71
        },
        "outputId": "ee87973d-2890-45a7-e3eb-7d372c97c72d"
      },
      "source": [
        "print(egitim_X[0])\n",
        "print(egitim_X[-1])\n",
        "\n"
      ],
      "execution_count": 55,
      "outputs": [
        {
          "output_type": "stream",
          "text": [
            "A total of 1252 patients were included in this study, including 685 (54.6%) males and 567 (45.4%) females. The median age was 59 years old (range, 18-75 years). The median TD count was 2, with a range of 1 to 38. The median follow-up of all the patients was 46 months, with a range of 1 month to 71 months.\n",
            "To identify and validate a cutoff for the TD count, the 1252 patients were divided randomly into two cohorts, the training cohort and the validation cohort, using computer-generated random numbers. As shown in Table 1, no significant difference was shown in age, ;,ilkl,,ü-ğ* gender, race, tumor locatiogd vfdv dcdccecfe cfn, differentiation degree, pathological type, tumor size, T stage, the number of metastatic lymph nodes, M stage, CEA level, PNI status, and TD count between the training and validation cohorts (all ).\n"
          ],
          "name": "stdout"
        }
      ]
    },
    {
      "cell_type": "code",
      "metadata": {
        "id": "83crlfTM3ecX",
        "colab_type": "code",
        "colab": {}
      },
      "source": [
        "from keras.preprocessing.text import Tokenizer\n",
        "\n",
        "# tokinizer nesnesini oluştur\n",
        "\n",
        "# parametres opsiyonları ve default değerleri\n",
        "# num_words=None, lower=True, split=' ', char_level=False, oov_token=None\n",
        "# filters='!\"#$%&()*+,-./:;<=>?@[\\]^_`{|}~ '\n",
        "\n",
        "# metinlerde en çok geçen 10 kelimenin işleme alınmasını sağlayalım\n",
        "MAX_NUM_WORDS = 10\n",
        "tokenizer = Tokenizer(num_words=MAX_NUM_WORDS)"
      ],
      "execution_count": 0,
      "outputs": []
    },
    {
      "cell_type": "code",
      "metadata": {
        "id": "pa_jO6aK33bA",
        "colab_type": "code",
        "colab": {}
      },
      "source": [
        "# giriş verisine göre tokinizer sınıfının ayarlanması\n",
        "tokenizer.fit_on_texts(egitim_X)"
      ],
      "execution_count": 0,
      "outputs": []
    },
    {
      "cell_type": "code",
      "metadata": {
        "id": "Z9OV4IMh33Z_",
        "colab_type": "code",
        "colab": {
          "base_uri": "https://localhost:8080/",
          "height": 1000
        },
        "outputId": "45f3aadf-03b1-4442-81ff-5fb3e7b48efa"
      },
      "source": [
        "\n",
        "#hangi kelimelerin geçtiğine bakalım\n",
        "for kelime in tokenizer.word_index:\n",
        "    print (kelime)"
      ],
      "execution_count": 58,
      "outputs": [
        {
          "output_type": "stream",
          "text": [
            "the\n",
            "of\n",
            "and\n",
            "td\n",
            "a\n",
            "patients\n",
            "in\n",
            "was\n",
            "count\n",
            "median\n",
            "range\n",
            "1\n",
            "to\n",
            "1252\n",
            "were\n",
            "age\n",
            "years\n",
            "2\n",
            "with\n",
            "all\n",
            "months\n",
            "cutoff\n",
            "for\n",
            "cohorts\n",
            "training\n",
            "cohort\n",
            "validation\n",
            "shown\n",
            "tumor\n",
            "stage\n",
            "total\n",
            "included\n",
            "this\n",
            "study\n",
            "including\n",
            "685\n",
            "54\n",
            "6\n",
            "males\n",
            "567\n",
            "45\n",
            "4\n",
            "females\n",
            "59\n",
            "old\n",
            "18\n",
            "75\n",
            "38\n",
            "follow\n",
            "up\n",
            "46\n",
            "month\n",
            "71\n",
            "3\n",
            "optimal\n",
            "value\n",
            "positive\n",
            "crc\n",
            "identify\n",
            "validate\n",
            "divided\n",
            "randomly\n",
            "into\n",
            "two\n",
            "using\n",
            "computer\n",
            "generated\n",
            "random\n",
            "numbers\n",
            "as\n",
            "table\n",
            "no\n",
            "significant\n",
            "difference\n",
            "ilkl\n",
            "ü\n",
            "ğ\n",
            "gender\n",
            "race\n",
            "locatiogd\n",
            "vfdv\n",
            "dcdccecfe\n",
            "cfn\n",
            "differentiation\n",
            "degree\n",
            "pathological\n",
            "type\n",
            "size\n",
            "t\n",
            "number\n",
            "metastatic\n",
            "lymph\n",
            "nodes\n",
            "m\n",
            "cea\n",
            "level\n",
            "pni\n",
            "status\n",
            "between\n"
          ],
          "name": "stdout"
        }
      ]
    },
    {
      "cell_type": "code",
      "metadata": {
        "id": "gxQnzgOw33Yo",
        "colab_type": "code",
        "colab": {
          "base_uri": "https://localhost:8080/",
          "height": 34
        },
        "outputId": "0afe1739-aa3a-4763-83b4-6a78266e2d1f"
      },
      "source": [
        "\n",
        "print (\"Toplam \", tokenizer.num_words, \" adet  kelime işleme alınacaktır\")"
      ],
      "execution_count": 63,
      "outputs": [
        {
          "output_type": "stream",
          "text": [
            "Toplam  10  adet  kelime işleme alınacaktır\n"
          ],
          "name": "stdout"
        }
      ]
    },
    {
      "cell_type": "code",
      "metadata": {
        "id": "C3kaJKqB33WB",
        "colab_type": "code",
        "colab": {
          "base_uri": "https://localhost:8080/",
          "height": 34
        },
        "outputId": "f24200c0-7ac7-4422-e619-d39685ce1c31"
      },
      "source": [
        "print (\"Toplam \", len(tokenizer.word_index), \" adet farklı kelime bulunmaktadır\")"
      ],
      "execution_count": 67,
      "outputs": [
        {
          "output_type": "stream",
          "text": [
            "Toplam  99  adet farklı kelime bulunmaktadır\n"
          ],
          "name": "stdout"
        }
      ]
    },
    {
      "cell_type": "code",
      "metadata": {
        "id": "xlcs9ZGV5Hxs",
        "colab_type": "code",
        "colab": {
          "base_uri": "https://localhost:8080/",
          "height": 180
        },
        "outputId": "243c9819-7a74-4330-a8eb-f8c31b4204d0"
      },
      "source": [
        "print (\"korkma kelimesi toplam \", tokenizer.word_counts('computer'), \" kez geçmiştir\")\n",
        "print (\"korkma kelimesine verilen id = \", tokenizer.word_index['computer'])"
      ],
      "execution_count": 76,
      "outputs": [
        {
          "output_type": "error",
          "ename": "TypeError",
          "evalue": "ignored",
          "traceback": [
            "\u001b[0;31m---------------------------------------------------------------------------\u001b[0m",
            "\u001b[0;31mTypeError\u001b[0m                                 Traceback (most recent call last)",
            "\u001b[0;32m<ipython-input-76-c298f0418514>\u001b[0m in \u001b[0;36m<module>\u001b[0;34m()\u001b[0m\n\u001b[0;32m----> 1\u001b[0;31m \u001b[0mprint\u001b[0m \u001b[0;34m(\u001b[0m\u001b[0;34m\"korkma kelimesi toplam \"\u001b[0m\u001b[0;34m,\u001b[0m \u001b[0mtokenizer\u001b[0m\u001b[0;34m.\u001b[0m\u001b[0mword_counts\u001b[0m\u001b[0;34m(\u001b[0m\u001b[0;34m'computer'\u001b[0m\u001b[0;34m)\u001b[0m\u001b[0;34m,\u001b[0m \u001b[0;34m\" kez geçmiştir\"\u001b[0m\u001b[0;34m)\u001b[0m\u001b[0;34m\u001b[0m\u001b[0;34m\u001b[0m\u001b[0m\n\u001b[0m\u001b[1;32m      2\u001b[0m \u001b[0mprint\u001b[0m \u001b[0;34m(\u001b[0m\u001b[0;34m\"korkma kelimesine verilen id = \"\u001b[0m\u001b[0;34m,\u001b[0m \u001b[0mtokenizer\u001b[0m\u001b[0;34m.\u001b[0m\u001b[0mword_index\u001b[0m\u001b[0;34m[\u001b[0m\u001b[0;34m'computer'\u001b[0m\u001b[0;34m]\u001b[0m\u001b[0;34m)\u001b[0m\u001b[0;34m\u001b[0m\u001b[0;34m\u001b[0m\u001b[0m\n",
            "\u001b[0;31mTypeError\u001b[0m: 'collections.OrderedDict' object is not callable"
          ]
        }
      ]
    },
    {
      "cell_type": "code",
      "metadata": {
        "id": "7H4BYwNI5L-w",
        "colab_type": "code",
        "colab": {
          "base_uri": "https://localhost:8080/",
          "height": 1000
        },
        "outputId": "5a611d6c-bc8f-4c3d-8931-e9a078315ace"
      },
      "source": [
        "#bütün kelimeleri ve frekanslarını yazdıralım\n",
        "for kelime in tokenizer.word_index:\n",
        "    print (kelime, \"=\", tokenizer.word_counts[kelime], \"    \"),"
      ],
      "execution_count": 77,
      "outputs": [
        {
          "output_type": "stream",
          "text": [
            "the = 11     \n",
            "of = 5     \n",
            "and = 5     \n",
            "td = 5     \n",
            "a = 4     \n",
            "patients = 4     \n",
            "in = 4     \n",
            "was = 4     \n",
            "count = 4     \n",
            "median = 3     \n",
            "range = 3     \n",
            "1 = 3     \n",
            "to = 3     \n",
            "1252 = 2     \n",
            "were = 2     \n",
            "age = 2     \n",
            "years = 2     \n",
            "2 = 2     \n",
            "with = 2     \n",
            "all = 2     \n",
            "months = 2     \n",
            "cutoff = 2     \n",
            "for = 2     \n",
            "cohorts = 2     \n",
            "training = 2     \n",
            "cohort = 2     \n",
            "validation = 2     \n",
            "shown = 2     \n",
            "tumor = 2     \n",
            "stage = 2     \n",
            "total = 1     \n",
            "included = 1     \n",
            "this = 1     \n",
            "study = 1     \n",
            "including = 1     \n",
            "685 = 1     \n",
            "54 = 1     \n",
            "6 = 1     \n",
            "males = 1     \n",
            "567 = 1     \n",
            "45 = 1     \n",
            "4 = 1     \n",
            "females = 1     \n",
            "59 = 1     \n",
            "old = 1     \n",
            "18 = 1     \n",
            "75 = 1     \n",
            "38 = 1     \n",
            "follow = 1     \n",
            "up = 1     \n",
            "46 = 1     \n",
            "month = 1     \n",
            "71 = 1     \n",
            "3 = 1     \n",
            "optimal = 1     \n",
            "value = 1     \n",
            "positive = 1     \n",
            "crc = 1     \n",
            "identify = 1     \n",
            "validate = 1     \n",
            "divided = 1     \n",
            "randomly = 1     \n",
            "into = 1     \n",
            "two = 1     \n",
            "using = 1     \n",
            "computer = 1     \n",
            "generated = 1     \n",
            "random = 1     \n",
            "numbers = 1     \n",
            "as = 1     \n",
            "table = 1     \n",
            "no = 1     \n",
            "significant = 1     \n",
            "difference = 1     \n",
            "ilkl = 1     \n",
            "ü = 1     \n",
            "ğ = 1     \n",
            "gender = 1     \n",
            "race = 1     \n",
            "locatiogd = 1     \n",
            "vfdv = 1     \n",
            "dcdccecfe = 1     \n",
            "cfn = 1     \n",
            "differentiation = 1     \n",
            "degree = 1     \n",
            "pathological = 1     \n",
            "type = 1     \n",
            "size = 1     \n",
            "t = 1     \n",
            "number = 1     \n",
            "metastatic = 1     \n",
            "lymph = 1     \n",
            "nodes = 1     \n",
            "m = 1     \n",
            "cea = 1     \n",
            "level = 1     \n",
            "pni = 1     \n",
            "status = 1     \n",
            "between = 1     \n"
          ],
          "name": "stdout"
        }
      ]
    },
    {
      "cell_type": "code",
      "metadata": {
        "id": "Jp_C73o-5Q6R",
        "colab_type": "code",
        "colab": {
          "base_uri": "https://localhost:8080/",
          "height": 34
        },
        "outputId": "b5357f7d-3b6f-4992-85b7-049e15504bfd"
      },
      "source": [
        "tk.index_docs"
      ],
      "execution_count": 79,
      "outputs": [
        {
          "output_type": "execute_result",
          "data": {
            "text/plain": [
              "defaultdict(int, {1: 3, 2: 2, 3: 2, 4: 1, 5: 1, 6: 1, 7: 1})"
            ]
          },
          "metadata": {
            "tags": []
          },
          "execution_count": 79
        }
      ]
    },
    {
      "cell_type": "code",
      "metadata": {
        "id": "s9gIapSSCRTh",
        "colab_type": "code",
        "colab": {}
      },
      "source": [
        "sequences = tokenizer.texts_to_sequences(egitim_X)"
      ],
      "execution_count": 0,
      "outputs": []
    },
    {
      "cell_type": "code",
      "metadata": {
        "id": "lpD8-pJSCRPG",
        "colab_type": "code",
        "colab": {
          "base_uri": "https://localhost:8080/",
          "height": 85
        },
        "outputId": "f6382441-441a-4234-cc58-b2bbd38bac85"
      },
      "source": [
        "for satir in sequences:\n",
        "    print (satir, \"  \",)"
      ],
      "execution_count": 82,
      "outputs": [
        {
          "output_type": "stream",
          "text": [
            "[5, 2, 6, 7, 3, 1, 8, 1, 4, 9, 8, 5, 2, 1, 2, 1, 6, 8, 5, 2]   \n",
            "[]   \n",
            "[1, 4, 9, 7, 4, 6]   \n",
            "[3, 5, 1, 4, 9, 1, 6, 1, 3, 1, 7, 8, 7, 1, 2, 3, 4, 9, 1, 3]   \n"
          ],
          "name": "stdout"
        }
      ]
    },
    {
      "cell_type": "code",
      "metadata": {
        "id": "EMS9xChcCeD5",
        "colab_type": "code",
        "colab": {}
      },
      "source": [
        "# her bir giriş verisininin uzunluğu yalnızca 4 olsun\n",
        "\n",
        "from keras.preprocessing.sequence import pad_sequences\n",
        "\n",
        "giris = pad_sequences(sequences, maxlen=4)"
      ],
      "execution_count": 0,
      "outputs": []
    },
    {
      "cell_type": "code",
      "metadata": {
        "id": "vz44N2qfCeMn",
        "colab_type": "code",
        "colab": {
          "base_uri": "https://localhost:8080/",
          "height": 85
        },
        "outputId": "8543f3c8-fcb0-4659-ba06-e1d9254f9d15"
      },
      "source": [
        "\n",
        "for satir in giris:\n",
        "    print (satir, \"  \",)"
      ],
      "execution_count": 85,
      "outputs": [
        {
          "output_type": "stream",
          "text": [
            "[6 8 5 2]   \n",
            "[0 0 0 0]   \n",
            "[9 7 4 6]   \n",
            "[4 9 1 3]   \n"
          ],
          "name": "stdout"
        }
      ]
    }
  ]
}