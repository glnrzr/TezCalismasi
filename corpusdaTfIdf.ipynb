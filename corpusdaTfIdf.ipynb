{
  "nbformat": 4,
  "nbformat_minor": 0,
  "metadata": {
    "colab": {
      "name": "Untitled5.ipynb",
      "provenance": [],
      "authorship_tag": "ABX9TyPzuVJT4gm2aO5vJV11xcdV",
      "include_colab_link": true
    },
    "kernelspec": {
      "name": "python3",
      "display_name": "Python 3"
    }
  },
  "cells": [
    {
      "cell_type": "markdown",
      "metadata": {
        "id": "view-in-github",
        "colab_type": "text"
      },
      "source": [
        "<a href=\"https://colab.research.google.com/github/glnrzr/TezCalismasi/blob/master/corpusdaTfIdf.ipynb\" target=\"_parent\"><img src=\"https://colab.research.google.com/assets/colab-badge.svg\" alt=\"Open In Colab\"/></a>"
      ]
    },
    {
      "cell_type": "code",
      "metadata": {
        "id": "3CS9_kxYTxeD",
        "colab_type": "code",
        "colab": {}
      },
      "source": [
        "corpus=\"\"\"A total of 1252 patients were included in this study, including 685 (54.6%) males and 567 (45.4%) females. \n",
        "The median age was 59 years old (range, 18-75 years). \n",
        "The median TD count was 2, with a range of 1 to 38. \n",
        "The median follow-up of all the patients was 46 months, with a range of 1 month to 71 months.\"\"\".split('\\n')"
      ],
      "execution_count": 0,
      "outputs": []
    },
    {
      "cell_type": "code",
      "metadata": {
        "id": "CnNFeIhVT9l8",
        "colab_type": "code",
        "outputId": "c661e8c3-7d36-4257-d83c-fbc0961f488d",
        "colab": {
          "base_uri": "https://localhost:8080/",
          "height": 88
        }
      },
      "source": [
        "from sklearn.feature_extraction.text import CountVectorizer\n",
        "\n",
        "tf = CountVectorizer()\n",
        "TF = tf.fit_transform(corpus)\n",
        "print(tf.get_feature_names())\n",
        "print(TF.toarray()[0,:]) #toarray()"
      ],
      "execution_count": 2,
      "outputs": [
        {
          "output_type": "stream",
          "text": [
            "['1252', '18', '38', '45', '46', '54', '567', '59', '685', '71', '75', 'age', 'all', 'and', 'count', 'females', 'follow', 'in', 'included', 'including', 'males', 'median', 'month', 'months', 'of', 'old', 'patients', 'range', 'study', 'td', 'the', 'this', 'to', 'total', 'up', 'was', 'were', 'with', 'years']\n",
            "[1 0 0 1 0 1 1 0 1 0 0 0 0 1 0 1 0 1 1 1 1 0 0 0 1 0 1 0 1 0 0 1 0 1 0 0 1\n",
            " 0 0]\n"
          ],
          "name": "stdout"
        }
      ]
    },
    {
      "cell_type": "code",
      "metadata": {
        "id": "mwEeH7WUUTLq",
        "colab_type": "code",
        "colab": {}
      },
      "source": [
        "from sklearn.metrics.pairwise import cosine_similarity"
      ],
      "execution_count": 0,
      "outputs": []
    },
    {
      "cell_type": "code",
      "metadata": {
        "id": "gPsXoTcUi5tW",
        "colab_type": "code",
        "outputId": "9c1f1adf-0f33-43db-c385-26246e8e5068",
        "colab": {
          "base_uri": "https://localhost:8080/",
          "height": 85
        }
      },
      "source": [
        "new_sentence = 'median patients months'\n",
        "query = tf.transform([new_sentence]).toarray()\n",
        "for index, vector in enumerate(TF.toarray()):\n",
        "    sim=cosine_similarity(query, [vector])\n",
        "    print(\"{index}\\t{sim}\".format(index=index, sim=sim))"
      ],
      "execution_count": 4,
      "outputs": [
        {
          "output_type": "stream",
          "text": [
            "0\t[[0.14002801]]\n",
            "1\t[[0.16012815]]\n",
            "2\t[[0.18257419]]\n",
            "3\t[[0.47140452]]\n"
          ],
          "name": "stdout"
        }
      ]
    }
  ]
}