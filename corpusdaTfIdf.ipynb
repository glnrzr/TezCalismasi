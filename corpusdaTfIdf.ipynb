{
  "nbformat": 4,
  "nbformat_minor": 0,
  "metadata": {
    "colab": {
      "name": "Untitled5.ipynb",
      "provenance": [],
      "authorship_tag": "ABX9TyOR7pi11wn5niXUdhmLP7Yu",
      "include_colab_link": true
    },
    "kernelspec": {
      "name": "python3",
      "display_name": "Python 3"
    }
  },
  "cells": [
    {
      "cell_type": "markdown",
      "metadata": {
        "id": "view-in-github",
        "colab_type": "text"
      },
      "source": [
        "<a href=\"https://colab.research.google.com/github/glnrzr/TezCalismasi/blob/master/corpusdaTfIdf.ipynb\" target=\"_parent\"><img src=\"https://colab.research.google.com/assets/colab-badge.svg\" alt=\"Open In Colab\"/></a>"
      ]
    },
    {
      "cell_type": "code",
      "metadata": {
        "id": "3CS9_kxYTxeD",
        "colab_type": "code",
        "colab": {}
      },
      "source": [
        "corpus=\"\"\"gülnur okula gel.\n",
        "gülnur okula git.\n",
        "metehan çok akıllı.\n",
        "şahin karısını çok seviyor.\n",
        "ben sen birde bebek.\"\"\".split('\\n')"
      ],
      "execution_count": 0,
      "outputs": []
    },
    {
      "cell_type": "code",
      "metadata": {
        "id": "CnNFeIhVT9l8",
        "colab_type": "code",
        "colab": {
          "base_uri": "https://localhost:8080/",
          "height": 51
        },
        "outputId": "6f01a932-904f-4e31-a3d3-7dda6a3e48aa"
      },
      "source": [
        "from sklearn.feature_extraction.text import CountVectorizer\n",
        "\n",
        "tf = CountVectorizer()\n",
        "TF = tf.fit_transform(corpus)\n",
        "print(tf.get_feature_names())\n",
        "print(TF.toarray()[0,:]) #toarray()"
      ],
      "execution_count": 18,
      "outputs": [
        {
          "output_type": "stream",
          "text": [
            "['akıllı', 'bebek', 'ben', 'birde', 'gel', 'git', 'gülnur', 'karısını', 'metehan', 'okula', 'sen', 'seviyor', 'çok', 'şahin']\n",
            "[0 0 0 0 1 0 1 0 0 1 0 0 0 0]\n"
          ],
          "name": "stdout"
        }
      ]
    },
    {
      "cell_type": "code",
      "metadata": {
        "id": "mwEeH7WUUTLq",
        "colab_type": "code",
        "colab": {}
      },
      "source": [
        "from sklearn.metrics.pairwise import cosine_similarity"
      ],
      "execution_count": 0,
      "outputs": []
    },
    {
      "cell_type": "code",
      "metadata": {
        "id": "gPsXoTcUi5tW",
        "colab_type": "code",
        "colab": {
          "base_uri": "https://localhost:8080/",
          "height": 102
        },
        "outputId": "44d6ec9e-6dff-46ca-ece9-18630f184eaa"
      },
      "source": [
        "new_sentence = 'metehan bebek uyandı gülnur gülnur'\n",
        "query = tf.transform([new_sentence]).toarray()\n",
        "for index, vector in enumerate(TF.toarray()):\n",
        "    sim=cosine_similarity(query, [vector])\n",
        "    print(\"{index}\\t{sim}\".format(index=index, sim=sim))"
      ],
      "execution_count": 26,
      "outputs": [
        {
          "output_type": "stream",
          "text": [
            "0\t[[0.47140452]]\n",
            "1\t[[0.47140452]]\n",
            "2\t[[0.23570226]]\n",
            "3\t[[0.]]\n",
            "4\t[[0.20412415]]\n"
          ],
          "name": "stdout"
        }
      ]
    }
  ]
}