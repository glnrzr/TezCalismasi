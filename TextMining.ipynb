{
  "nbformat": 4,
  "nbformat_minor": 0,
  "metadata": {
    "colab": {
      "name": "Untitled6.ipynb",
      "provenance": [],
      "authorship_tag": "ABX9TyPAssF8L7+bkwUwlSOq4z/H",
      "include_colab_link": true
    },
    "kernelspec": {
      "name": "python3",
      "display_name": "Python 3"
    }
  },
  "cells": [
    {
      "cell_type": "markdown",
      "metadata": {
        "id": "view-in-github",
        "colab_type": "text"
      },
      "source": [
        "<a href=\"https://colab.research.google.com/github/glnrzr/TezCalismasi/blob/master/TextMining.ipynb\" target=\"_parent\"><img src=\"https://colab.research.google.com/assets/colab-badge.svg\" alt=\"Open In Colab\"/></a>"
      ]
    },
    {
      "cell_type": "code",
      "metadata": {
        "id": "GxonQ_HTpxNd",
        "colab_type": "code",
        "colab": {}
      },
      "source": [
        "import pandas as pd\n",
        "import spacy\n"
      ],
      "execution_count": 0,
      "outputs": []
    },
    {
      "cell_type": "code",
      "metadata": {
        "id": "ziJ2X3NGFnOq",
        "colab_type": "code",
        "colab": {}
      },
      "source": [
        "import os\n",
        "\n",
        "#Text dosyaları data isimli klasör içerisinde olsun\n",
        "BASE_DIR  = os.getcwd()\n",
        "TEXT_DATA_DIR = os.path.join(BASE_DIR, 'data')"
      ],
      "execution_count": 0,
      "outputs": []
    },
    {
      "cell_type": "code",
      "metadata": {
        "id": "qTUKy_laF0qM",
        "colab_type": "code",
        "colab": {}
      },
      "source": [
        "egitim_X = []\n",
        "#data klasöründeki tüm dosyaları teker teker oku\n",
        "for name in sorted(os.listdir(TEXT_DATA_DIR)):\n",
        "    fname = os.path.join(TEXT_DATA_DIR, name)\n",
        "    #dosya uzantısı .txt ise \n",
        "    if fname.endswith(\".txt\"):\n",
        "        with open(fname) as infile:\n",
        "            for line in infile:\n",
        "                #satır başı ve sonu dışındaki olası boşlukları temizle\n",
        "                line = line.strip()\n",
        "                try:\n",
        "                  egitim_X.append(line)\n",
        "                except Exception as e:\n",
        "                  print(e)"
      ],
      "execution_count": 0,
      "outputs": []
    },
    {
      "cell_type": "code",
      "metadata": {
        "id": "jC0loTS_t91a",
        "colab_type": "code",
        "colab": {
          "base_uri": "https://localhost:8080/",
          "height": 496
        },
        "outputId": "7bf2f981-1ebf-4909-ec8e-92d15d678a1a"
      },
      "source": [
        "import sys\n",
        "!{sys.executable} -m spacy download en"
      ],
      "execution_count": 46,
      "outputs": [
        {
          "output_type": "stream",
          "text": [
            "Requirement already satisfied: en_core_web_sm==2.2.5 from https://github.com/explosion/spacy-models/releases/download/en_core_web_sm-2.2.5/en_core_web_sm-2.2.5.tar.gz#egg=en_core_web_sm==2.2.5 in /usr/local/lib/python3.6/dist-packages (2.2.5)\n",
            "Requirement already satisfied: spacy>=2.2.2 in /usr/local/lib/python3.6/dist-packages (from en_core_web_sm==2.2.5) (2.2.4)\n",
            "Requirement already satisfied: preshed<3.1.0,>=3.0.2 in /usr/local/lib/python3.6/dist-packages (from spacy>=2.2.2->en_core_web_sm==2.2.5) (3.0.2)\n",
            "Requirement already satisfied: plac<1.2.0,>=0.9.6 in /usr/local/lib/python3.6/dist-packages (from spacy>=2.2.2->en_core_web_sm==2.2.5) (1.1.3)\n",
            "Requirement already satisfied: catalogue<1.1.0,>=0.0.7 in /usr/local/lib/python3.6/dist-packages (from spacy>=2.2.2->en_core_web_sm==2.2.5) (1.0.0)\n",
            "Requirement already satisfied: thinc==7.4.0 in /usr/local/lib/python3.6/dist-packages (from spacy>=2.2.2->en_core_web_sm==2.2.5) (7.4.0)\n",
            "Requirement already satisfied: tqdm<5.0.0,>=4.38.0 in /usr/local/lib/python3.6/dist-packages (from spacy>=2.2.2->en_core_web_sm==2.2.5) (4.38.0)\n",
            "Requirement already satisfied: wasabi<1.1.0,>=0.4.0 in /usr/local/lib/python3.6/dist-packages (from spacy>=2.2.2->en_core_web_sm==2.2.5) (0.6.0)\n",
            "Requirement already satisfied: srsly<1.1.0,>=1.0.2 in /usr/local/lib/python3.6/dist-packages (from spacy>=2.2.2->en_core_web_sm==2.2.5) (1.0.2)\n",
            "Requirement already satisfied: setuptools in /usr/local/lib/python3.6/dist-packages (from spacy>=2.2.2->en_core_web_sm==2.2.5) (46.0.0)\n",
            "Requirement already satisfied: requests<3.0.0,>=2.13.0 in /usr/local/lib/python3.6/dist-packages (from spacy>=2.2.2->en_core_web_sm==2.2.5) (2.21.0)\n",
            "Requirement already satisfied: cymem<2.1.0,>=2.0.2 in /usr/local/lib/python3.6/dist-packages (from spacy>=2.2.2->en_core_web_sm==2.2.5) (2.0.3)\n",
            "Requirement already satisfied: blis<0.5.0,>=0.4.0 in /usr/local/lib/python3.6/dist-packages (from spacy>=2.2.2->en_core_web_sm==2.2.5) (0.4.1)\n",
            "Requirement already satisfied: numpy>=1.15.0 in /usr/local/lib/python3.6/dist-packages (from spacy>=2.2.2->en_core_web_sm==2.2.5) (1.18.2)\n",
            "Requirement already satisfied: murmurhash<1.1.0,>=0.28.0 in /usr/local/lib/python3.6/dist-packages (from spacy>=2.2.2->en_core_web_sm==2.2.5) (1.0.2)\n",
            "Requirement already satisfied: importlib-metadata>=0.20; python_version < \"3.8\" in /usr/local/lib/python3.6/dist-packages (from catalogue<1.1.0,>=0.0.7->spacy>=2.2.2->en_core_web_sm==2.2.5) (1.5.0)\n",
            "Requirement already satisfied: urllib3<1.25,>=1.21.1 in /usr/local/lib/python3.6/dist-packages (from requests<3.0.0,>=2.13.0->spacy>=2.2.2->en_core_web_sm==2.2.5) (1.24.3)\n",
            "Requirement already satisfied: chardet<3.1.0,>=3.0.2 in /usr/local/lib/python3.6/dist-packages (from requests<3.0.0,>=2.13.0->spacy>=2.2.2->en_core_web_sm==2.2.5) (3.0.4)\n",
            "Requirement already satisfied: idna<2.9,>=2.5 in /usr/local/lib/python3.6/dist-packages (from requests<3.0.0,>=2.13.0->spacy>=2.2.2->en_core_web_sm==2.2.5) (2.8)\n",
            "Requirement already satisfied: certifi>=2017.4.17 in /usr/local/lib/python3.6/dist-packages (from requests<3.0.0,>=2.13.0->spacy>=2.2.2->en_core_web_sm==2.2.5) (2019.11.28)\n",
            "Requirement already satisfied: zipp>=0.5 in /usr/local/lib/python3.6/dist-packages (from importlib-metadata>=0.20; python_version < \"3.8\"->catalogue<1.1.0,>=0.0.7->spacy>=2.2.2->en_core_web_sm==2.2.5) (3.1.0)\n",
            "\u001b[38;5;2m✔ Download and installation successful\u001b[0m\n",
            "You can now load the model via spacy.load('en_core_web_sm')\n",
            "\u001b[38;5;2m✔ Linking successful\u001b[0m\n",
            "/usr/local/lib/python3.6/dist-packages/en_core_web_sm -->\n",
            "/usr/local/lib/python3.6/dist-packages/spacy/data/en\n",
            "You can now load the model via spacy.load('en')\n"
          ],
          "name": "stdout"
        }
      ]
    },
    {
      "cell_type": "code",
      "metadata": {
        "id": "9orR03afuHHL",
        "colab_type": "code",
        "colab": {}
      },
      "source": [
        "nlp = spacy.load(\"en\")"
      ],
      "execution_count": 0,
      "outputs": []
    },
    {
      "cell_type": "code",
      "metadata": {
        "id": "x3mBOgCVuMf1",
        "colab_type": "code",
        "colab": {}
      },
      "source": [
        "doc = nlp(TEXT_DATA_DIR)"
      ],
      "execution_count": 0,
      "outputs": []
    },
    {
      "cell_type": "code",
      "metadata": {
        "id": "tmlxCuBduQhs",
        "colab_type": "code",
        "colab": {
          "base_uri": "https://localhost:8080/",
          "height": 34
        },
        "outputId": "d96524a9-ddc0-41c2-901c-35944299d18b"
      },
      "source": [
        "doc"
      ],
      "execution_count": 49,
      "outputs": [
        {
          "output_type": "execute_result",
          "data": {
            "text/plain": [
              "/content/data"
            ]
          },
          "metadata": {
            "tags": []
          },
          "execution_count": 49
        }
      ]
    },
    {
      "cell_type": "code",
      "metadata": {
        "id": "PIaEE7CTuUSw",
        "colab_type": "code",
        "colab": {
          "base_uri": "https://localhost:8080/",
          "height": 34
        },
        "outputId": "fc3de50d-b096-4971-ee7a-5a8bc9222583"
      },
      "source": [
        "type(doc)"
      ],
      "execution_count": 50,
      "outputs": [
        {
          "output_type": "execute_result",
          "data": {
            "text/plain": [
              "spacy.tokens.doc.Doc"
            ]
          },
          "metadata": {
            "tags": []
          },
          "execution_count": 50
        }
      ]
    },
    {
      "cell_type": "code",
      "metadata": {
        "id": "fkkRO0yAuYOe",
        "colab_type": "code",
        "colab": {
          "base_uri": "https://localhost:8080/",
          "height": 68
        },
        "outputId": "51ad2dfa-7527-431c-81b5-3ac79c53d352"
      },
      "source": [
        "for token in doc:\n",
        "    print(token)"
      ],
      "execution_count": 51,
      "outputs": [
        {
          "output_type": "stream",
          "text": [
            "/content\n",
            "/\n",
            "data\n"
          ],
          "name": "stdout"
        }
      ]
    },
    {
      "cell_type": "code",
      "metadata": {
        "id": "-AKtwPMpueG9",
        "colab_type": "code",
        "outputId": "ffa02509-8d6a-442b-f746-08539d4cc901",
        "colab": {
          "base_uri": "https://localhost:8080/",
          "height": 34
        }
      },
      "source": [
        "doc[0].is_alpha"
      ],
      "execution_count": 52,
      "outputs": [
        {
          "output_type": "execute_result",
          "data": {
            "text/plain": [
              "False"
            ]
          },
          "metadata": {
            "tags": []
          },
          "execution_count": 52
        }
      ]
    },
    {
      "cell_type": "code",
      "metadata": {
        "id": "9QaPM7NHuifQ",
        "colab_type": "code",
        "outputId": "671affaa-8a2c-46c0-f561-c29507aa8ac5",
        "colab": {
          "base_uri": "https://localhost:8080/",
          "height": 34
        }
      },
      "source": [
        "doc[0].is_lower"
      ],
      "execution_count": 16,
      "outputs": [
        {
          "output_type": "execute_result",
          "data": {
            "text/plain": [
              "True"
            ]
          },
          "metadata": {
            "tags": []
          },
          "execution_count": 16
        }
      ]
    },
    {
      "cell_type": "code",
      "metadata": {
        "id": "OEeljHL-uvZc",
        "colab_type": "code",
        "outputId": "884b8928-87d2-4d27-c751-68142b9ab636",
        "colab": {
          "base_uri": "https://localhost:8080/",
          "height": 34
        }
      },
      "source": [
        "doc[0].is_currency"
      ],
      "execution_count": 17,
      "outputs": [
        {
          "output_type": "execute_result",
          "data": {
            "text/plain": [
              "False"
            ]
          },
          "metadata": {
            "tags": []
          },
          "execution_count": 17
        }
      ]
    },
    {
      "cell_type": "code",
      "metadata": {
        "id": "GECGFuQquzrK",
        "colab_type": "code",
        "outputId": "3b53f52b-c610-49da-eee6-178d7827c727",
        "colab": {
          "base_uri": "https://localhost:8080/",
          "height": 34
        }
      },
      "source": [
        "doc[-1].is_punct "
      ],
      "execution_count": 18,
      "outputs": [
        {
          "output_type": "execute_result",
          "data": {
            "text/plain": [
              "False"
            ]
          },
          "metadata": {
            "tags": []
          },
          "execution_count": 18
        }
      ]
    },
    {
      "cell_type": "code",
      "metadata": {
        "id": "aS0pWmz6u7Fl",
        "colab_type": "code",
        "outputId": "ac4b50aa-ec63-45b9-ab8b-ec41e91e873a",
        "colab": {
          "base_uri": "https://localhost:8080/",
          "height": 51
        }
      },
      "source": [
        "text2 = 'Some\\nspaces  and\\ttab characters'\n",
        "print(text2)"
      ],
      "execution_count": 0,
      "outputs": [
        {
          "output_type": "stream",
          "text": [
            "Some\n",
            "spaces  and\ttab characters\n"
          ],
          "name": "stdout"
        }
      ]
    },
    {
      "cell_type": "code",
      "metadata": {
        "id": "8k1cLhvyu-0f",
        "colab_type": "code",
        "colab": {}
      },
      "source": [
        "token.is_space"
      ],
      "execution_count": 0,
      "outputs": []
    },
    {
      "cell_type": "code",
      "metadata": {
        "id": "-juYmuxQvDgR",
        "colab_type": "code",
        "outputId": "d837cf9f-30a8-4304-838a-b508794eafb1",
        "colab": {
          "base_uri": "https://localhost:8080/",
          "height": 34
        }
      },
      "source": [
        "nlp(text2)[1].is_space"
      ],
      "execution_count": 0,
      "outputs": [
        {
          "output_type": "execute_result",
          "data": {
            "text/plain": [
              "True"
            ]
          },
          "metadata": {
            "tags": []
          },
          "execution_count": 18
        }
      ]
    },
    {
      "cell_type": "code",
      "metadata": {
        "id": "yOZobS1AvJpw",
        "colab_type": "code",
        "colab": {}
      },
      "source": [
        "for token in nlp(text2):\n",
        "    print(token)"
      ],
      "execution_count": 0,
      "outputs": []
    },
    {
      "cell_type": "code",
      "metadata": {
        "id": "JbG6haORvRJm",
        "colab_type": "code",
        "colab": {}
      },
      "source": [
        "text3 = \"In ancient Rome, some neighbors live in three adjacent houses. In the center is the house of Senex, who lives there with wife Domina, son Hero, and several slaves, including head slave Hysterium and the musical's main character Pseudolus. A slave belonging to Hero, Pseudolus wishes to buy, win, or steal his freedom. One of the neighboring houses is owned by Marcus Lycus, who is a buyer and seller of beautiful women; the other belongs to the ancient Erronius, who is abroad searching for his long-lost children (stolen in infancy by pirates). One day, Senex and Domina go on a trip and leave Pseudolus in charge of Hero. Hero confides in Pseudolus that he is in love with the lovely Philia, one of the courtesans in the House of Lycus (albeit still a virgin).\"\n",
        "doc = nlp(text3)"
      ],
      "execution_count": 0,
      "outputs": []
    },
    {
      "cell_type": "code",
      "metadata": {
        "id": "Ggc-kgCIvVy0",
        "colab_type": "code",
        "colab": {}
      },
      "source": [
        "for sent in doc.sents:\n",
        "    print(sent)"
      ],
      "execution_count": 0,
      "outputs": []
    },
    {
      "cell_type": "code",
      "metadata": {
        "id": "fjattxvpvlGo",
        "colab_type": "code",
        "colab": {}
      },
      "source": [
        "nlp(\"they are neighbours\")[-1].lemma_"
      ],
      "execution_count": 0,
      "outputs": []
    },
    {
      "cell_type": "code",
      "metadata": {
        "id": "HbMrxehQvqEG",
        "colab_type": "code",
        "outputId": "206e8b77-751f-4839-8fff-f4e24d44bd99",
        "colab": {
          "base_uri": "https://localhost:8080/",
          "height": 34
        }
      },
      "source": [
        "doc = nlp(TEXT_DATA_DIR)\n",
        "doc"
      ],
      "execution_count": 53,
      "outputs": [
        {
          "output_type": "execute_result",
          "data": {
            "text/plain": [
              "/content/data"
            ]
          },
          "metadata": {
            "tags": []
          },
          "execution_count": 53
        }
      ]
    },
    {
      "cell_type": "code",
      "metadata": {
        "id": "9P75kWD3vxs9",
        "colab_type": "code",
        "outputId": "d35f7f11-1737-4e66-e22e-f76f64601cea",
        "colab": {
          "base_uri": "https://localhost:8080/",
          "height": 34
        }
      },
      "source": [
        "doc[7]"
      ],
      "execution_count": 0,
      "outputs": [
        {
          "output_type": "execute_result",
          "data": {
            "text/plain": [
              "in"
            ]
          },
          "metadata": {
            "tags": []
          },
          "execution_count": 24
        }
      ]
    },
    {
      "cell_type": "code",
      "metadata": {
        "id": "3gYLwGnsvzQH",
        "colab_type": "code",
        "outputId": "83bdd016-6887-40b0-f64f-3edb32475abc",
        "colab": {
          "base_uri": "https://localhost:8080/",
          "height": 34
        }
      },
      "source": [
        "doc[5]"
      ],
      "execution_count": 0,
      "outputs": [
        {
          "output_type": "execute_result",
          "data": {
            "text/plain": [
              "neighbors"
            ]
          },
          "metadata": {
            "tags": []
          },
          "execution_count": 25
        }
      ]
    },
    {
      "cell_type": "code",
      "metadata": {
        "id": "bjz3ZUhfvzXu",
        "colab_type": "code",
        "outputId": "a68a27af-d803-4b84-f82d-bee6f04bc983",
        "colab": {
          "base_uri": "https://localhost:8080/",
          "height": 34
        }
      },
      "source": [
        "doc[7].lemma_"
      ],
      "execution_count": 0,
      "outputs": [
        {
          "output_type": "execute_result",
          "data": {
            "text/plain": [
              "'in'"
            ]
          },
          "metadata": {
            "tags": []
          },
          "execution_count": 26
        }
      ]
    },
    {
      "cell_type": "code",
      "metadata": {
        "id": "5Du6ej0Wvzie",
        "colab_type": "code",
        "colab": {}
      },
      "source": [
        "\"hello\".lemma_"
      ],
      "execution_count": 0,
      "outputs": []
    },
    {
      "cell_type": "code",
      "metadata": {
        "id": "19YJ5KLGwCWR",
        "colab_type": "code",
        "outputId": "5b013954-1a5a-48c3-df3f-d64dc69906ac",
        "colab": {
          "base_uri": "https://localhost:8080/",
          "height": 34
        }
      },
      "source": [
        "type(_)"
      ],
      "execution_count": 0,
      "outputs": [
        {
          "output_type": "execute_result",
          "data": {
            "text/plain": [
              "str"
            ]
          },
          "metadata": {
            "tags": []
          },
          "execution_count": 28
        }
      ]
    },
    {
      "cell_type": "code",
      "metadata": {
        "id": "HzX5H4UBwCgh",
        "colab_type": "code",
        "outputId": "e6411686-6bd3-49ad-91a4-a92aa331ca8f",
        "colab": {
          "base_uri": "https://localhost:8080/",
          "height": 34
        }
      },
      "source": [
        "doc[0]\n"
      ],
      "execution_count": 0,
      "outputs": [
        {
          "output_type": "execute_result",
          "data": {
            "text/plain": [
              "In"
            ]
          },
          "metadata": {
            "tags": []
          },
          "execution_count": 29
        }
      ]
    },
    {
      "cell_type": "code",
      "metadata": {
        "id": "TT7j93mNwCfB",
        "colab_type": "code",
        "outputId": "2a140236-ca8b-48f9-ddd2-78138d50b239",
        "colab": {
          "base_uri": "https://localhost:8080/",
          "height": 34
        }
      },
      "source": [
        "type(_)"
      ],
      "execution_count": 0,
      "outputs": [
        {
          "output_type": "execute_result",
          "data": {
            "text/plain": [
              "spacy.tokens.token.Token"
            ]
          },
          "metadata": {
            "tags": []
          },
          "execution_count": 30
        }
      ]
    },
    {
      "cell_type": "code",
      "metadata": {
        "id": "QX8GQFZkwCbg",
        "colab_type": "code",
        "outputId": "947112de-f981-47ef-acdc-ab145a07da5f",
        "colab": {
          "base_uri": "https://localhost:8080/",
          "height": 34
        }
      },
      "source": [
        "doc.vocab['is']"
      ],
      "execution_count": 0,
      "outputs": [
        {
          "output_type": "execute_result",
          "data": {
            "text/plain": [
              "<spacy.lexeme.Lexeme at 0x7f088586a990>"
            ]
          },
          "metadata": {
            "tags": []
          },
          "execution_count": 31
        }
      ]
    },
    {
      "cell_type": "code",
      "metadata": {
        "id": "f6j0qhqCwCZv",
        "colab_type": "code",
        "colab": {}
      },
      "source": [
        " "
      ],
      "execution_count": 0,
      "outputs": []
    },
    {
      "cell_type": "code",
      "metadata": {
        "id": "g0Qj4XFkwef2",
        "colab_type": "code",
        "colab": {}
      },
      "source": [
        ""
      ],
      "execution_count": 0,
      "outputs": []
    },
    {
      "cell_type": "code",
      "metadata": {
        "id": "W1XY7bqswCU5",
        "colab_type": "code",
        "colab": {}
      },
      "source": [
        "from spacy.lang.en.stop_words import STOP_WORDS"
      ],
      "execution_count": 0,
      "outputs": []
    },
    {
      "cell_type": "code",
      "metadata": {
        "id": "pWni3BrhwfqI",
        "colab_type": "code",
        "outputId": "f5aac269-a72c-4141-b794-144618bf2671",
        "colab": {
          "base_uri": "https://localhost:8080/",
          "height": 34
        }
      },
      "source": [
        "doc[0].lower_ in STOP_WORDS"
      ],
      "execution_count": 55,
      "outputs": [
        {
          "output_type": "execute_result",
          "data": {
            "text/plain": [
              "False"
            ]
          },
          "metadata": {
            "tags": []
          },
          "execution_count": 55
        }
      ]
    },
    {
      "cell_type": "code",
      "metadata": {
        "id": "L4evs-7twh64",
        "colab_type": "code",
        "colab": {
          "base_uri": "https://localhost:8080/",
          "height": 54
        },
        "outputId": "3b3654d8-254b-4a3f-9f5b-13eccbd12331"
      },
      "source": [
        "print(STOP_WORDS)"
      ],
      "execution_count": 56,
      "outputs": [
        {
          "output_type": "stream",
          "text": [
            "{'whether', 'behind', 'ca', \"'ll\", 'enough', 'except', 'next', 'top', 'anywhere', 'really', 'former', 'most', 'her', 'forty', 'nowhere', 'ten', 'myself', 'something', 'towards', '‘d', 'been', '’m', 'afterwards', 'another', 'at', 'this', 'under', 'along', 'could', 'above', 'for', 'me', 'some', 'n‘t', 'among', 'she', 'show', 'such', 'your', 'using', 'neither', 'these', 'again', 'did', 'none', 'unless', 'while', 'last', 'might', 'everyone', 'various', 'before', 'becomes', 'therefore', 'wherein', 'yourselves', 'must', \"n't\", 'amount', 'both', 'an', 'used', 'move', 'twenty', 'as', 'i', 'any', 'keep', 'herein', 'many', 'because', 'same', 'and', 'now', 'those', 'back', 'regarding', 'thru', 'wherever', 'when', 'with', 'seeming', 'become', 'but', 'after', 'least', 'besides', 'ever', 'mostly', 'whither', 'over', 'does', 'toward', 'done', 'twelve', 'even', 'ourselves', 'around', 'down', 'hereupon', 'latter', 'who', '’ve', 'may', 'to', 'hers', 'every', 'elsewhere', 'you', '’re', 'no', 'there', 'take', 'whereby', 'sometime', 'due', 'during', 'nine', 'once', 'beyond', 'put', 'whatever', 'cannot', 'although', 'serious', 'they', 'very', '’ll', 'still', 'seems', 'often', 'here', 'one', 'side', '’d', 'whenever', 'get', 'where', 'so', 'else', 'first', 'doing', 'five', 'herself', 'hereafter', 'would', 'anything', 'give', 'him', 'beforehand', 'had', 'nevertheless', 'amongst', 'fifty', 'part', 'latterly', \"'d\", 'less', 'throughout', 'whose', 'all', 'made', 'well', 'fifteen', 'us', 'yet', 'sixty', 'off', 'whereafter', 'rather', 'someone', 'everything', 'them', 'two', '‘s', 'onto', 'more', 'is', 'has', 'can', 'mine', 'namely', 'meanwhile', 'please', 'say', \"'re\", 'became', 'eleven', 'our', 'eight', 'whereas', 'against', 'its', 'full', 'itself', 'ours', 'several', 'thereafter', 'formerly', 'hence', 'his', 'name', 'within', 'anyway', 'on', 'up', '‘ll', \"'m\", 'almost', 'thence', 'too', 'why', 'are', 'whole', 'already', 'seem', 'how', 'if', 'six', 'whoever', 'via', 'across', 'quite', 'few', 'yourself', 're', 'am', 'beside', 'however', 'he', 'somewhere', 'were', 'much', 'anyone', 'thereupon', 'sometimes', 'indeed', 'hereby', 'moreover', 'perhaps', '‘ve', 'by', 'between', 'whom', 'somehow', 'or', 'since', 'upon', 'either', 'four', 'therein', 'in', 'below', 'themselves', 'than', \"'s\", 'from', 'thereby', 'bottom', 'nor', 'own', 'whence', '‘m', 'call', 'nothing', 'otherwise', 'yours', '‘re', 'my', \"'ve\", 'without', 'into', 'then', 'always', 'also', 'never', 'each', 'empty', 'do', 'go', 'per', 'together', 'was', 'will', 'the', 'three', 'it', 'hundred', 'others', 'becoming', 'through', 'make', 'being', 'front', 'only', 'everywhere', 'though', 'other', 'seemed', 'about', 'noone', 'thus', 'which', 'anyhow', 'a', 'third', 'not', 'what', 'himself', 'of', 'we', 'see', 'be', 'out', '’s', 'should', 'alone', 'further', 'that', 'their', 'n’t', 'nobody', 'until', 'whereupon', 'just', 'have'}\n"
          ],
          "name": "stdout"
        }
      ]
    },
    {
      "cell_type": "code",
      "metadata": {
        "id": "-tfxugC-wiIX",
        "colab_type": "code",
        "colab": {
          "base_uri": "https://localhost:8080/",
          "height": 34
        },
        "outputId": "7cdba790-161f-4fd6-8d7f-c7a51aec0ffe"
      },
      "source": [
        "[token.lemma_ for token in doc if not token.is_punct]"
      ],
      "execution_count": 57,
      "outputs": [
        {
          "output_type": "execute_result",
          "data": {
            "text/plain": [
              "['/content', 'datum']"
            ]
          },
          "metadata": {
            "tags": []
          },
          "execution_count": 57
        }
      ]
    },
    {
      "cell_type": "code",
      "metadata": {
        "id": "l3sKUdEQwiGx",
        "colab_type": "code",
        "outputId": "38583c64-8d9a-435b-b892-cb4b78cb2855",
        "colab": {
          "base_uri": "https://localhost:8080/",
          "height": 34
        }
      },
      "source": [
        "doc = nlp(TEXT_DATA_DIR)\n",
        "doc"
      ],
      "execution_count": 60,
      "outputs": [
        {
          "output_type": "execute_result",
          "data": {
            "text/plain": [
              "/content/data"
            ]
          },
          "metadata": {
            "tags": []
          },
          "execution_count": 60
        }
      ]
    },
    {
      "cell_type": "code",
      "metadata": {
        "id": "GwFjJqCawiE2",
        "colab_type": "code",
        "colab": {
          "base_uri": "https://localhost:8080/",
          "height": 68
        },
        "outputId": "e46b65a0-d15f-4fcc-f092-ccbc7d4b25b3"
      },
      "source": [
        "for token in doc:\n",
        "    print(token, token.pos_)"
      ],
      "execution_count": 61,
      "outputs": [
        {
          "output_type": "stream",
          "text": [
            "/content PROPN\n",
            "/ SYM\n",
            "data NOUN\n"
          ],
          "name": "stdout"
        }
      ]
    },
    {
      "cell_type": "code",
      "metadata": {
        "id": "ecztjnDRxN1p",
        "colab_type": "code",
        "colab": {}
      },
      "source": [
        "from spacy import displacy"
      ],
      "execution_count": 0,
      "outputs": []
    },
    {
      "cell_type": "code",
      "metadata": {
        "id": "h6MTbG-mxRlq",
        "colab_type": "code",
        "colab": {
          "base_uri": "https://localhost:8080/",
          "height": 246
        },
        "outputId": "88327846-eddf-4f9e-f694-314d3a6e25c3"
      },
      "source": [
        "displacy.render(doc, style=\"dep\", jupyter=True)"
      ],
      "execution_count": 63,
      "outputs": [
        {
          "output_type": "display_data",
          "data": {
            "text/html": [
              "<span class=\"tex2jax_ignore\"><svg xmlns=\"http://www.w3.org/2000/svg\" xmlns:xlink=\"http://www.w3.org/1999/xlink\" xml:lang=\"en\" id=\"ef1e9bb4e1784ab88a311fc4ff4d91e4-0\" class=\"displacy\" width=\"400\" height=\"224.5\" direction=\"ltr\" style=\"max-width: none; height: 224.5px; color: #000000; background: #ffffff; font-family: Arial; direction: ltr\">\n",
              "<text class=\"displacy-token\" fill=\"currentColor\" text-anchor=\"middle\" y=\"134.5\">\n",
              "    <tspan class=\"displacy-word\" fill=\"currentColor\" x=\"50\">/content/</tspan>\n",
              "    <tspan class=\"displacy-tag\" dy=\"2em\" fill=\"currentColor\" x=\"50\">PROPN</tspan>\n",
              "</text>\n",
              "\n",
              "<text class=\"displacy-token\" fill=\"currentColor\" text-anchor=\"middle\" y=\"134.5\">\n",
              "    <tspan class=\"displacy-word\" fill=\"currentColor\" x=\"225\">data</tspan>\n",
              "    <tspan class=\"displacy-tag\" dy=\"2em\" fill=\"currentColor\" x=\"225\">NOUN</tspan>\n",
              "</text>\n",
              "\n",
              "<g class=\"displacy-arrow\">\n",
              "    <path class=\"displacy-arc\" id=\"arrow-ef1e9bb4e1784ab88a311fc4ff4d91e4-0-0\" stroke-width=\"2px\" d=\"M70,89.5 C70,2.0 225.0,2.0 225.0,89.5\" fill=\"none\" stroke=\"currentColor\"/>\n",
              "    <text dy=\"1.25em\" style=\"font-size: 0.8em; letter-spacing: 1px\">\n",
              "        <textPath xlink:href=\"#arrow-ef1e9bb4e1784ab88a311fc4ff4d91e4-0-0\" class=\"displacy-label\" startOffset=\"50%\" side=\"left\" fill=\"currentColor\" text-anchor=\"middle\">punct</textPath>\n",
              "    </text>\n",
              "    <path class=\"displacy-arrowhead\" d=\"M70,91.5 L62,79.5 78,79.5\" fill=\"currentColor\"/>\n",
              "</g>\n",
              "</svg></span>"
            ],
            "text/plain": [
              "<IPython.core.display.HTML object>"
            ]
          },
          "metadata": {
            "tags": []
          }
        }
      ]
    },
    {
      "cell_type": "code",
      "metadata": {
        "id": "VQZu6taIxw2O",
        "colab_type": "code",
        "outputId": "d9ed7e6b-13bd-4c46-ce76-9b867dd79180",
        "colab": {
          "base_uri": "https://localhost:8080/",
          "height": 49
        }
      },
      "source": [
        "pd.DataFrame(columns=[\"Text\", \"Lemma\", \"Coarse POS (pos)\", \"Fine POS (tag)\", \"Syntactic dependency\", \"Shape\", \"Alphanumeric\", \"Stop\"])"
      ],
      "execution_count": 64,
      "outputs": [
        {
          "output_type": "execute_result",
          "data": {
            "text/html": [
              "<div>\n",
              "<style scoped>\n",
              "    .dataframe tbody tr th:only-of-type {\n",
              "        vertical-align: middle;\n",
              "    }\n",
              "\n",
              "    .dataframe tbody tr th {\n",
              "        vertical-align: top;\n",
              "    }\n",
              "\n",
              "    .dataframe thead th {\n",
              "        text-align: right;\n",
              "    }\n",
              "</style>\n",
              "<table border=\"1\" class=\"dataframe\">\n",
              "  <thead>\n",
              "    <tr style=\"text-align: right;\">\n",
              "      <th></th>\n",
              "      <th>Text</th>\n",
              "      <th>Lemma</th>\n",
              "      <th>Coarse POS (pos)</th>\n",
              "      <th>Fine POS (tag)</th>\n",
              "      <th>Syntactic dependency</th>\n",
              "      <th>Shape</th>\n",
              "      <th>Alphanumeric</th>\n",
              "      <th>Stop</th>\n",
              "    </tr>\n",
              "  </thead>\n",
              "  <tbody>\n",
              "  </tbody>\n",
              "</table>\n",
              "</div>"
            ],
            "text/plain": [
              "Empty DataFrame\n",
              "Columns: [Text, Lemma, Coarse POS (pos), Fine POS (tag), Syntactic dependency, Shape, Alphanumeric, Stop]\n",
              "Index: []"
            ]
          },
          "metadata": {
            "tags": []
          },
          "execution_count": 64
        }
      ]
    },
    {
      "cell_type": "code",
      "metadata": {
        "id": "1Cc_f4NPx10o",
        "colab_type": "code",
        "colab": {}
      },
      "source": [
        "doc = nlp(corpus)\n",
        "\n",
        "rows = []\n",
        "for token in doc:\n",
        "    rows.append((token.text, token.lemma_, token.pos_, token.tag_,\n",
        "                 token.dep_, token.shape_, token.is_alpha, token.is_stop))\n",
        "\n",
        "pd.DataFrame(\n",
        "    rows,\n",
        "    columns=[\"Text\", \"Lemma\", \"Coarse POS (pos)\", \"Fine POS (tag)\", \"Syntactic dependency\", \"Shape\", \"Alphanumeric\", \"Stop\"]\n",
        ")"
      ],
      "execution_count": 0,
      "outputs": []
    },
    {
      "cell_type": "code",
      "metadata": {
        "id": "UFGqUZX0yC-y",
        "colab_type": "code",
        "colab": {}
      },
      "source": [
        "from collections import defaultdict"
      ],
      "execution_count": 0,
      "outputs": []
    },
    {
      "cell_type": "code",
      "metadata": {
        "id": "4kJH39q6yGQ0",
        "colab_type": "code",
        "colab": {
          "base_uri": "https://localhost:8080/",
          "height": 142
        },
        "outputId": "c1ddf9ea-49b2-4a22-d43a-b958edfce9c7"
      },
      "source": [
        "doc = nlp(TEXT_DATA_DIR)\n",
        "\n",
        "rows = defaultdict(list)\n",
        "\n",
        "for token in doc:\n",
        "    rows[\"Text\"].append(token.text)\n",
        "    rows[\"Lemma\"].append(token.lemma_)\n",
        "\n",
        "pd.DataFrame(rows)"
      ],
      "execution_count": 67,
      "outputs": [
        {
          "output_type": "execute_result",
          "data": {
            "text/html": [
              "<div>\n",
              "<style scoped>\n",
              "    .dataframe tbody tr th:only-of-type {\n",
              "        vertical-align: middle;\n",
              "    }\n",
              "\n",
              "    .dataframe tbody tr th {\n",
              "        vertical-align: top;\n",
              "    }\n",
              "\n",
              "    .dataframe thead th {\n",
              "        text-align: right;\n",
              "    }\n",
              "</style>\n",
              "<table border=\"1\" class=\"dataframe\">\n",
              "  <thead>\n",
              "    <tr style=\"text-align: right;\">\n",
              "      <th></th>\n",
              "      <th>Text</th>\n",
              "      <th>Lemma</th>\n",
              "    </tr>\n",
              "  </thead>\n",
              "  <tbody>\n",
              "    <tr>\n",
              "      <th>0</th>\n",
              "      <td>/content</td>\n",
              "      <td>/content</td>\n",
              "    </tr>\n",
              "    <tr>\n",
              "      <th>1</th>\n",
              "      <td>/</td>\n",
              "      <td>/</td>\n",
              "    </tr>\n",
              "    <tr>\n",
              "      <th>2</th>\n",
              "      <td>data</td>\n",
              "      <td>datum</td>\n",
              "    </tr>\n",
              "  </tbody>\n",
              "</table>\n",
              "</div>"
            ],
            "text/plain": [
              "       Text     Lemma\n",
              "0  /content  /content\n",
              "1         /         /\n",
              "2      data     datum"
            ]
          },
          "metadata": {
            "tags": []
          },
          "execution_count": 67
        }
      ]
    },
    {
      "cell_type": "code",
      "metadata": {
        "id": "2_11Tv9jyUUl",
        "colab_type": "code",
        "colab": {}
      },
      "source": [
        ""
      ],
      "execution_count": 0,
      "outputs": []
    },
    {
      "cell_type": "code",
      "metadata": {
        "id": "TqqjLVRDyGNo",
        "colab_type": "code",
        "outputId": "b8a3f523-7d6e-43c7-9738-3ad3a215b188",
        "colab": {
          "base_uri": "https://localhost:8080/",
          "height": 142
        }
      },
      "source": [
        "pd.DataFrame(\n",
        "    rows,\n",
        "    columns=[\"Text\", \"Lemma\", \"Coarse POS (pos)\", \"Fine POS (tag)\", \"Syntactic dependency\", \"Shape\", \"Alphanumeric\", \"Stop\"]\n",
        ")"
      ],
      "execution_count": 68,
      "outputs": [
        {
          "output_type": "execute_result",
          "data": {
            "text/html": [
              "<div>\n",
              "<style scoped>\n",
              "    .dataframe tbody tr th:only-of-type {\n",
              "        vertical-align: middle;\n",
              "    }\n",
              "\n",
              "    .dataframe tbody tr th {\n",
              "        vertical-align: top;\n",
              "    }\n",
              "\n",
              "    .dataframe thead th {\n",
              "        text-align: right;\n",
              "    }\n",
              "</style>\n",
              "<table border=\"1\" class=\"dataframe\">\n",
              "  <thead>\n",
              "    <tr style=\"text-align: right;\">\n",
              "      <th></th>\n",
              "      <th>Text</th>\n",
              "      <th>Lemma</th>\n",
              "      <th>Coarse POS (pos)</th>\n",
              "      <th>Fine POS (tag)</th>\n",
              "      <th>Syntactic dependency</th>\n",
              "      <th>Shape</th>\n",
              "      <th>Alphanumeric</th>\n",
              "      <th>Stop</th>\n",
              "    </tr>\n",
              "  </thead>\n",
              "  <tbody>\n",
              "    <tr>\n",
              "      <th>0</th>\n",
              "      <td>/content</td>\n",
              "      <td>/content</td>\n",
              "      <td>NaN</td>\n",
              "      <td>NaN</td>\n",
              "      <td>NaN</td>\n",
              "      <td>NaN</td>\n",
              "      <td>NaN</td>\n",
              "      <td>NaN</td>\n",
              "    </tr>\n",
              "    <tr>\n",
              "      <th>1</th>\n",
              "      <td>/</td>\n",
              "      <td>/</td>\n",
              "      <td>NaN</td>\n",
              "      <td>NaN</td>\n",
              "      <td>NaN</td>\n",
              "      <td>NaN</td>\n",
              "      <td>NaN</td>\n",
              "      <td>NaN</td>\n",
              "    </tr>\n",
              "    <tr>\n",
              "      <th>2</th>\n",
              "      <td>data</td>\n",
              "      <td>datum</td>\n",
              "      <td>NaN</td>\n",
              "      <td>NaN</td>\n",
              "      <td>NaN</td>\n",
              "      <td>NaN</td>\n",
              "      <td>NaN</td>\n",
              "      <td>NaN</td>\n",
              "    </tr>\n",
              "  </tbody>\n",
              "</table>\n",
              "</div>"
            ],
            "text/plain": [
              "       Text     Lemma Coarse POS (pos)  ... Shape Alphanumeric Stop\n",
              "0  /content  /content              NaN  ...   NaN          NaN  NaN\n",
              "1         /         /              NaN  ...   NaN          NaN  NaN\n",
              "2      data     datum              NaN  ...   NaN          NaN  NaN\n",
              "\n",
              "[3 rows x 8 columns]"
            ]
          },
          "metadata": {
            "tags": []
          },
          "execution_count": 68
        }
      ]
    },
    {
      "cell_type": "code",
      "metadata": {
        "id": "cf9_AeC-yGKe",
        "colab_type": "code",
        "colab": {}
      },
      "source": [
        "text4 = u'Apple is looking at buying U.K. startup for 1 billion USD'\n",
        "doc = nlp(text4)"
      ],
      "execution_count": 0,
      "outputs": []
    },
    {
      "cell_type": "code",
      "metadata": {
        "id": "Ml0uZiKLyGIp",
        "colab_type": "code",
        "outputId": "bbe90f4b-fb7d-4d05-dc22-543009510acf",
        "colab": {
          "base_uri": "https://localhost:8080/",
          "height": 68
        }
      },
      "source": [
        "for ent in doc.ents:\n",
        "    print(ent, ent.label_)"
      ],
      "execution_count": 0,
      "outputs": [
        {
          "output_type": "stream",
          "text": [
            "Apple ORG\n",
            "U.K. GPE\n",
            "1 billion CARDINAL\n"
          ],
          "name": "stdout"
        }
      ]
    },
    {
      "cell_type": "code",
      "metadata": {
        "id": "9NC4bTh-ymyp",
        "colab_type": "code",
        "outputId": "c22a5264-cee7-46af-bbc3-b10ab9d1c359",
        "colab": {
          "base_uri": "https://localhost:8080/",
          "height": 332
        }
      },
      "source": [
        "doc3 = nlp(text3)\n",
        "\n",
        "displacy.render(doc3, style=\"ent\", jupyter=True)"
      ],
      "execution_count": 0,
      "outputs": [
        {
          "output_type": "display_data",
          "data": {
            "text/html": [
              "<div class=\"entities\" style=\"line-height: 2.5; direction: ltr\">In ancient \n",
              "<mark class=\"entity\" style=\"background: #feca74; padding: 0.45em 0.6em; margin: 0 0.25em; line-height: 1; border-radius: 0.35em;\">\n",
              "    Rome\n",
              "    <span style=\"font-size: 0.8em; font-weight: bold; line-height: 1; border-radius: 0.35em; text-transform: uppercase; vertical-align: middle; margin-left: 0.5rem\">GPE</span>\n",
              "</mark>\n",
              ", some neighbors live in \n",
              "<mark class=\"entity\" style=\"background: #e4e7d2; padding: 0.45em 0.6em; margin: 0 0.25em; line-height: 1; border-radius: 0.35em;\">\n",
              "    three\n",
              "    <span style=\"font-size: 0.8em; font-weight: bold; line-height: 1; border-radius: 0.35em; text-transform: uppercase; vertical-align: middle; margin-left: 0.5rem\">CARDINAL</span>\n",
              "</mark>\n",
              " adjacent houses. In the center is the house of \n",
              "<mark class=\"entity\" style=\"background: #feca74; padding: 0.45em 0.6em; margin: 0 0.25em; line-height: 1; border-radius: 0.35em;\">\n",
              "    Senex\n",
              "    <span style=\"font-size: 0.8em; font-weight: bold; line-height: 1; border-radius: 0.35em; text-transform: uppercase; vertical-align: middle; margin-left: 0.5rem\">GPE</span>\n",
              "</mark>\n",
              ", who lives there with wife \n",
              "<mark class=\"entity\" style=\"background: #aa9cfc; padding: 0.45em 0.6em; margin: 0 0.25em; line-height: 1; border-radius: 0.35em;\">\n",
              "    Domina\n",
              "    <span style=\"font-size: 0.8em; font-weight: bold; line-height: 1; border-radius: 0.35em; text-transform: uppercase; vertical-align: middle; margin-left: 0.5rem\">PERSON</span>\n",
              "</mark>\n",
              ", son \n",
              "<mark class=\"entity\" style=\"background: #aa9cfc; padding: 0.45em 0.6em; margin: 0 0.25em; line-height: 1; border-radius: 0.35em;\">\n",
              "    Hero\n",
              "    <span style=\"font-size: 0.8em; font-weight: bold; line-height: 1; border-radius: 0.35em; text-transform: uppercase; vertical-align: middle; margin-left: 0.5rem\">PERSON</span>\n",
              "</mark>\n",
              ", and several slaves, including head slave Hysterium and the musical's main character \n",
              "<mark class=\"entity\" style=\"background: #feca74; padding: 0.45em 0.6em; margin: 0 0.25em; line-height: 1; border-radius: 0.35em;\">\n",
              "    Pseudolus\n",
              "    <span style=\"font-size: 0.8em; font-weight: bold; line-height: 1; border-radius: 0.35em; text-transform: uppercase; vertical-align: middle; margin-left: 0.5rem\">GPE</span>\n",
              "</mark>\n",
              ". A slave belonging to \n",
              "<mark class=\"entity\" style=\"background: #aa9cfc; padding: 0.45em 0.6em; margin: 0 0.25em; line-height: 1; border-radius: 0.35em;\">\n",
              "    Hero\n",
              "    <span style=\"font-size: 0.8em; font-weight: bold; line-height: 1; border-radius: 0.35em; text-transform: uppercase; vertical-align: middle; margin-left: 0.5rem\">PERSON</span>\n",
              "</mark>\n",
              ", \n",
              "<mark class=\"entity\" style=\"background: #feca74; padding: 0.45em 0.6em; margin: 0 0.25em; line-height: 1; border-radius: 0.35em;\">\n",
              "    Pseudolus\n",
              "    <span style=\"font-size: 0.8em; font-weight: bold; line-height: 1; border-radius: 0.35em; text-transform: uppercase; vertical-align: middle; margin-left: 0.5rem\">GPE</span>\n",
              "</mark>\n",
              " wishes to buy, win, or steal his freedom. \n",
              "<mark class=\"entity\" style=\"background: #e4e7d2; padding: 0.45em 0.6em; margin: 0 0.25em; line-height: 1; border-radius: 0.35em;\">\n",
              "    One\n",
              "    <span style=\"font-size: 0.8em; font-weight: bold; line-height: 1; border-radius: 0.35em; text-transform: uppercase; vertical-align: middle; margin-left: 0.5rem\">CARDINAL</span>\n",
              "</mark>\n",
              " of the neighboring houses is owned by \n",
              "<mark class=\"entity\" style=\"background: #7aecec; padding: 0.45em 0.6em; margin: 0 0.25em; line-height: 1; border-radius: 0.35em;\">\n",
              "    Marcus Lycus\n",
              "    <span style=\"font-size: 0.8em; font-weight: bold; line-height: 1; border-radius: 0.35em; text-transform: uppercase; vertical-align: middle; margin-left: 0.5rem\">ORG</span>\n",
              "</mark>\n",
              ", who is a buyer and seller of beautiful women; the other belongs to the ancient \n",
              "<mark class=\"entity\" style=\"background: #aa9cfc; padding: 0.45em 0.6em; margin: 0 0.25em; line-height: 1; border-radius: 0.35em;\">\n",
              "    Erronius\n",
              "    <span style=\"font-size: 0.8em; font-weight: bold; line-height: 1; border-radius: 0.35em; text-transform: uppercase; vertical-align: middle; margin-left: 0.5rem\">PERSON</span>\n",
              "</mark>\n",
              ", who is abroad searching for his long-lost children (stolen in infancy by pirates). \n",
              "<mark class=\"entity\" style=\"background: #bfe1d9; padding: 0.45em 0.6em; margin: 0 0.25em; line-height: 1; border-radius: 0.35em;\">\n",
              "    One day\n",
              "    <span style=\"font-size: 0.8em; font-weight: bold; line-height: 1; border-radius: 0.35em; text-transform: uppercase; vertical-align: middle; margin-left: 0.5rem\">DATE</span>\n",
              "</mark>\n",
              ", \n",
              "<mark class=\"entity\" style=\"background: #feca74; padding: 0.45em 0.6em; margin: 0 0.25em; line-height: 1; border-radius: 0.35em;\">\n",
              "    Senex\n",
              "    <span style=\"font-size: 0.8em; font-weight: bold; line-height: 1; border-radius: 0.35em; text-transform: uppercase; vertical-align: middle; margin-left: 0.5rem\">GPE</span>\n",
              "</mark>\n",
              " and \n",
              "<mark class=\"entity\" style=\"background: #aa9cfc; padding: 0.45em 0.6em; margin: 0 0.25em; line-height: 1; border-radius: 0.35em;\">\n",
              "    Domina\n",
              "    <span style=\"font-size: 0.8em; font-weight: bold; line-height: 1; border-radius: 0.35em; text-transform: uppercase; vertical-align: middle; margin-left: 0.5rem\">PERSON</span>\n",
              "</mark>\n",
              " go on a trip and leave Pseudolus in charge of \n",
              "<mark class=\"entity\" style=\"background: #aa9cfc; padding: 0.45em 0.6em; margin: 0 0.25em; line-height: 1; border-radius: 0.35em;\">\n",
              "    Hero\n",
              "    <span style=\"font-size: 0.8em; font-weight: bold; line-height: 1; border-radius: 0.35em; text-transform: uppercase; vertical-align: middle; margin-left: 0.5rem\">PERSON</span>\n",
              "</mark>\n",
              ". \n",
              "<mark class=\"entity\" style=\"background: #aa9cfc; padding: 0.45em 0.6em; margin: 0 0.25em; line-height: 1; border-radius: 0.35em;\">\n",
              "    Hero\n",
              "    <span style=\"font-size: 0.8em; font-weight: bold; line-height: 1; border-radius: 0.35em; text-transform: uppercase; vertical-align: middle; margin-left: 0.5rem\">PERSON</span>\n",
              "</mark>\n",
              " confides in \n",
              "<mark class=\"entity\" style=\"background: #feca74; padding: 0.45em 0.6em; margin: 0 0.25em; line-height: 1; border-radius: 0.35em;\">\n",
              "    Pseudolus\n",
              "    <span style=\"font-size: 0.8em; font-weight: bold; line-height: 1; border-radius: 0.35em; text-transform: uppercase; vertical-align: middle; margin-left: 0.5rem\">GPE</span>\n",
              "</mark>\n",
              " that he is in love with the lovely \n",
              "<mark class=\"entity\" style=\"background: #feca74; padding: 0.45em 0.6em; margin: 0 0.25em; line-height: 1; border-radius: 0.35em;\">\n",
              "    Philia\n",
              "    <span style=\"font-size: 0.8em; font-weight: bold; line-height: 1; border-radius: 0.35em; text-transform: uppercase; vertical-align: middle; margin-left: 0.5rem\">GPE</span>\n",
              "</mark>\n",
              ", one of the courtesans in \n",
              "<mark class=\"entity\" style=\"background: #7aecec; padding: 0.45em 0.6em; margin: 0 0.25em; line-height: 1; border-radius: 0.35em;\">\n",
              "    the House of Lycus\n",
              "    <span style=\"font-size: 0.8em; font-weight: bold; line-height: 1; border-radius: 0.35em; text-transform: uppercase; vertical-align: middle; margin-left: 0.5rem\">ORG</span>\n",
              "</mark>\n",
              " (albeit still a virgin).</div>"
            ],
            "text/plain": [
              "<IPython.core.display.HTML object>"
            ]
          },
          "metadata": {
            "tags": []
          }
        }
      ]
    },
    {
      "cell_type": "code",
      "metadata": {
        "id": "nBny5x34y0Rl",
        "colab_type": "code",
        "outputId": "da19c084-c8a8-49a7-c2b4-6a50d9607d18",
        "colab": {
          "base_uri": "https://localhost:8080/",
          "height": 34
        }
      },
      "source": [
        "nlp.vocab"
      ],
      "execution_count": 0,
      "outputs": [
        {
          "output_type": "execute_result",
          "data": {
            "text/plain": [
              "<spacy.vocab.Vocab at 0x7f08893cb748>"
            ]
          },
          "metadata": {
            "tags": []
          },
          "execution_count": 58
        }
      ]
    },
    {
      "cell_type": "code",
      "metadata": {
        "id": "hQxCmw77y0Py",
        "colab_type": "code",
        "outputId": "0cd6f23a-f9d2-4e44-e615-af3fd2c4465d",
        "colab": {
          "base_uri": "https://localhost:8080/",
          "height": 34
        }
      },
      "source": [
        "doc3.vocab[\"Madrid\"]"
      ],
      "execution_count": 0,
      "outputs": [
        {
          "output_type": "execute_result",
          "data": {
            "text/plain": [
              "<spacy.lexeme.Lexeme at 0x7f08855dae10>"
            ]
          },
          "metadata": {
            "tags": []
          },
          "execution_count": 59
        }
      ]
    },
    {
      "cell_type": "code",
      "metadata": {
        "id": "opuRfyRCy0Ma",
        "colab_type": "code",
        "outputId": "476169e1-f742-4142-a804-6c1956937631",
        "colab": {
          "base_uri": "https://localhost:8080/",
          "height": 34
        }
      },
      "source": [
        "lex = doc3.vocab[\"Rome\"]\n",
        "lex"
      ],
      "execution_count": 0,
      "outputs": [
        {
          "output_type": "execute_result",
          "data": {
            "text/plain": [
              "<spacy.lexeme.Lexeme at 0x7f08855daca8>"
            ]
          },
          "metadata": {
            "tags": []
          },
          "execution_count": 60
        }
      ]
    },
    {
      "cell_type": "code",
      "metadata": {
        "id": "_svDS3X3y0Km",
        "colab_type": "code",
        "outputId": "34991c1f-c613-4b33-dc1c-24a1d8d78963",
        "colab": {
          "base_uri": "https://localhost:8080/",
          "height": 34
        }
      },
      "source": [
        "lex.shape_"
      ],
      "execution_count": 0,
      "outputs": [
        {
          "output_type": "execute_result",
          "data": {
            "text/plain": [
              "'Xxxx'"
            ]
          },
          "metadata": {
            "tags": []
          },
          "execution_count": 61
        }
      ]
    },
    {
      "cell_type": "code",
      "metadata": {
        "id": "JkFeYVjTy0IH",
        "colab_type": "code",
        "outputId": "9c94b85b-c1bd-4116-ca7f-d3dd0e650d10",
        "colab": {
          "base_uri": "https://localhost:8080/",
          "height": 34
        }
      },
      "source": [
        "lex.text"
      ],
      "execution_count": 0,
      "outputs": [
        {
          "output_type": "execute_result",
          "data": {
            "text/plain": [
              "'Rome'"
            ]
          },
          "metadata": {
            "tags": []
          },
          "execution_count": 62
        }
      ]
    },
    {
      "cell_type": "code",
      "metadata": {
        "id": "iNl2GDtHy0Fx",
        "colab_type": "code",
        "outputId": "77428b05-954f-4387-8ca1-13f5a1fa3cae",
        "colab": {
          "base_uri": "https://localhost:8080/",
          "height": 34
        }
      },
      "source": [
        "lex.is_alpha  "
      ],
      "execution_count": 0,
      "outputs": [
        {
          "output_type": "execute_result",
          "data": {
            "text/plain": [
              "True"
            ]
          },
          "metadata": {
            "tags": []
          },
          "execution_count": 63
        }
      ]
    },
    {
      "cell_type": "code",
      "metadata": {
        "id": "ytWYw9CnzHNI",
        "colab_type": "code",
        "colab": {}
      },
      "source": [
        "import pandas as pd"
      ],
      "execution_count": 0,
      "outputs": []
    },
    {
      "cell_type": "code",
      "metadata": {
        "id": "B4uZE8wdzHhs",
        "colab_type": "code",
        "colab": {}
      },
      "source": [
        "import spacy\n",
        "\n",
        "from spacy.lang.en.stop_words import STOP_WORDS"
      ],
      "execution_count": 0,
      "outputs": []
    },
    {
      "cell_type": "code",
      "metadata": {
        "id": "0URTvD9FzHfY",
        "colab_type": "code",
        "colab": {}
      },
      "source": [
        "nlp = spacy.load(\"en\")"
      ],
      "execution_count": 0,
      "outputs": []
    },
    {
      "cell_type": "code",
      "metadata": {
        "id": "0W8Wn5YLzHdv",
        "colab_type": "code",
        "colab": {}
      },
      "source": [
        "from collections import Counter"
      ],
      "execution_count": 0,
      "outputs": []
    },
    {
      "cell_type": "code",
      "metadata": {
        "id": "rZBZwK2QzHbv",
        "colab_type": "code",
        "colab": {}
      },
      "source": [
        "esa = pd.read_parquet(\"/tmp/esa_news_all.parquet\").head(100)[\"text\"]"
      ],
      "execution_count": 0,
      "outputs": []
    },
    {
      "cell_type": "code",
      "metadata": {
        "id": "nt4-hnmWzHZx",
        "colab_type": "code",
        "colab": {}
      },
      "source": [
        "from keras.preprocessing.text import Tokenizer\n",
        "\n",
        "# tokinizer nesnesini oluştur\n",
        "\n",
        "# parametres opsiyonları ve default değerleri\n",
        "# num_words=None, lower=True, split=' ', char_level=False, oov_token=None\n",
        "# filters='!\"#$%&()*+,-./:;<=>?@[\\]^_`{|}~ '\n",
        "\n",
        "# metinlerde en çok geçen 10 kelimenin işleme alınmasını sağlayalım\n",
        "MAX_NUM_WORDS = 10\n",
        "tokenizer = Tokenizer(num_words=MAX_NUM_WORDS)"
      ],
      "execution_count": 0,
      "outputs": []
    },
    {
      "cell_type": "code",
      "metadata": {
        "id": "Mlyqv-Sghhay",
        "colab_type": "code",
        "colab": {
          "base_uri": "https://localhost:8080/",
          "height": 1000
        },
        "outputId": "0a0406a7-5170-4da3-9661-99f8558de106"
      },
      "source": [
        "# giriş verisine göre tokinizer sınıfının ayarlanması\n",
        "tokenizer.fit_on_texts(egitim_X)\n",
        "\n",
        "#tüm texlerde hangi kelimelerin geçtiği\n",
        "for kelime in tokenizer.word_index:\n",
        "    print (kelime,)"
      ],
      "execution_count": 72,
      "outputs": [
        {
          "output_type": "stream",
          "text": [
            "the\n",
            "and\n",
            "to\n",
            "of\n",
            "in\n",
            "for\n",
            "fuzzy\n",
            "water\n",
            "is\n",
            "a\n",
            "we\n",
            "data\n",
            "by\n",
            "this\n",
            "are\n",
            "use\n",
            "placement\n",
            "fis\n",
            "many\n",
            "analysis\n",
            "that\n",
            "more\n",
            "an\n",
            "bipolar\n",
            "numbers\n",
            "optimization\n",
            "model\n",
            "conjunctive\n",
            "surface\n",
            "subsurface\n",
            "using\n",
            "system\n",
            "it\n",
            "knowledge\n",
            "organizations\n",
            "such\n",
            "collaborative\n",
            "paper\n",
            "cooccurrence\n",
            "matrices\n",
            "co\n",
            "cluster\n",
            "information\n",
            "two\n",
            "method\n",
            "algorithms\n",
            "problem\n",
            "resources\n",
            "virtual\n",
            "machine\n",
            "optimal\n",
            "server\n",
            "consolidation\n",
            "with\n",
            "real\n",
            "can\n",
            "useful\n",
            "utilizing\n",
            "multiple\n",
            "databases\n",
            "stored\n",
            "they\n",
            "their\n",
            "privacy\n",
            "issues\n",
            "novel\n",
            "framework\n",
            "several\n",
            "sites\n",
            "without\n",
            "fear\n",
            "leaks\n",
            "clustering\n",
            "structures\n",
            "process\n",
            "results\n",
            "than\n",
            "continuous\n",
            "satisfying\n",
            "also\n",
            "propose\n",
            "ordering\n",
            "used\n",
            "number\n",
            "managing\n",
            "cloud\n",
            "datacenters\n",
            "considered\n",
            "resource\n",
            "firefly\n",
            "colony\n",
            "obtain\n",
            "strategy\n",
            "techniques\n",
            "study\n",
            "management\n",
            "rule\n",
            "world\n",
            "tasks\n",
            "expected\n",
            "get\n",
            "much\n",
            "different\n",
            "as\n",
            "cooperation\n",
            "groups\n",
            "state\n",
            "organs\n",
            "allied\n",
            "countries\n",
            "however\n",
            "often\n",
            "hesitate\n",
            "publish\n",
            "because\n",
            "security\n",
            "although\n",
            "believe\n",
            "advantages\n",
            "proposes\n",
            "vertically\n",
            "partitioned\n",
            "structure\n",
            "estimation\n",
            "which\n",
            "among\n",
            "objects\n",
            "items\n",
            "separately\n",
            "order\n",
            "utilize\n",
            "distributed\n",
            "sets\n",
            "preserving\n",
            "procedure\n",
            "introduced\n",
            "categorical\n",
            "multivariate\n",
            "fccm\n",
            "withholding\n",
            "each\n",
            "element\n",
            "only\n",
            "object\n",
            "memberships\n",
            "shared\n",
            "implicit\n",
            "joint\n",
            "revealed\n",
            "through\n",
            "iterative\n",
            "experimental\n",
            "demonstrate\n",
            "contribute\n",
            "revealing\n",
            "global\n",
            "intrinsic\n",
            "separate\n",
            "rather\n",
            "individual\n",
            "site\n",
            "wise\n",
            "makes\n",
            "possible\n",
            "private\n",
            "public\n",
            "share\n",
            "common\n",
            "structural\n",
            "intent\n",
            "prove\n",
            "coupled\n",
            "fixed\n",
            "point\n",
            "theorem\n",
            "pairs\n",
            "compatible\n",
            "subsequentially\n",
            "alternately\n",
            "subcompatible\n",
            "reciprocally\n",
            "mappings\n",
            "ϕ\n",
            "contractive\n",
            "conditions\n",
            "metric\n",
            "space\n",
            "furnish\n",
            "some\n",
            "illustrative\n",
            "examples\n",
            "support\n",
            "our\n",
            "new\n",
            "comparison\n",
            "lr\n",
            "extension\n",
            "kerre’s\n",
            "being\n",
            "unipolar\n",
            "give\n",
            "direct\n",
            "formula\n",
            "compare\n",
            "triangular\n",
            "o\n",
            "1\n",
            "operations\n",
            "making\n",
            "present\n",
            "application\n",
            "life\n",
            "most\n",
            "prevailing\n",
            "challenging\n",
            "task\n",
            "ahead\n",
            "industries\n",
            "centers\n",
            "be\n",
            "main\n",
            "source\n",
            "provisioning\n",
            "users\n",
            "these\n",
            "handle\n",
            "large\n",
            "requests\n",
            "has\n",
            "created\n",
            "need\n",
            "heuristic\n",
            "provide\n",
            "strategies\n",
            "objectives\n",
            "constraints\n",
            "formulated\n",
            "apply\n",
            "solve\n",
            "key\n",
            "namely\n",
            "multiobjective\n",
            "aims\n",
            "minimize\n",
            "count\n",
            "physical\n",
            "machines\n",
            "both\n",
            "minimum\n",
            "power\n",
            "consumption\n",
            "wastage\n",
            "proposed\n",
            "exhibit\n",
            "better\n",
            "performance\n",
            "heuristics\n",
            "metaheuristic\n",
            "approaches\n",
            "terms\n",
            "finding\n",
            "develops\n",
            "inference\n",
            "applies\n",
            "allocate\n",
            "demands\n",
            "subsequently\n",
            "allocations\n",
            "simulated\n",
            "linear\n",
            "programming\n",
            "responses\n",
            "respect\n",
            "pumping\n",
            "forecasted\n",
            "artificial\n",
            "neural\n",
            "networks\n",
            "operating\n",
            "systems\n",
            "abundant\n",
            "supplies\n",
            "easily\n",
            "incorporates\n",
            "expert\n",
            "operational\n",
            "polices\n",
            "into\n",
            "result\n",
            "indicates\n",
            "effective\n",
            "efficient\n",
            "when\n",
            "compared\n",
            "decoupled\n",
            "simulation\n",
            "models\n",
            "furthermore\n",
            "alternative\n",
            "way\n",
            "policies\n",
            "between\n"
          ],
          "name": "stdout"
        }
      ]
    },
    {
      "cell_type": "code",
      "metadata": {
        "id": "R4bFbYcphnVb",
        "colab_type": "code",
        "colab": {
          "base_uri": "https://localhost:8080/",
          "height": 51
        },
        "outputId": "3c89c6fe-42f3-4b14-ec67-249b9cda7252"
      },
      "source": [
        "\n",
        "print (\"Toplam \", len(tokenizer.word_index), \" adet farklı kelime bulunmaktadır\")\n",
        "print (\"Toplam \", tokenizer.num_words, \" adet  kelime işleme alınacaktır\")"
      ],
      "execution_count": 73,
      "outputs": [
        {
          "output_type": "stream",
          "text": [
            "Toplam  302  adet farklı kelime bulunmaktadır\n",
            "Toplam  10  adet  kelime işleme alınacaktır\n"
          ],
          "name": "stdout"
        }
      ]
    },
    {
      "cell_type": "code",
      "metadata": {
        "id": "En1eJ2m1hgMc",
        "colab_type": "code",
        "colab": {
          "base_uri": "https://localhost:8080/",
          "height": 51
        },
        "outputId": "06307097-df9a-4a81-8d12-28d444bb5ff2"
      },
      "source": [
        "print (\"of kelimesi toplam \", tokenizer.word_counts['of'], \" kez geçmiştir\")\n",
        "print (\"of kelimesine verilen id = \", tokenizer.word_index['of'])"
      ],
      "execution_count": 75,
      "outputs": [
        {
          "output_type": "stream",
          "text": [
            "of kelimesi toplam  19  kez geçmiştir\n",
            "of kelimesine verilen id =  4\n"
          ],
          "name": "stdout"
        }
      ]
    },
    {
      "cell_type": "code",
      "metadata": {
        "id": "BtlyHhvVi5VZ",
        "colab_type": "code",
        "colab": {
          "base_uri": "https://localhost:8080/",
          "height": 1000
        },
        "outputId": "6a5f8c89-d60e-4af9-b74d-4931f8251ea1"
      },
      "source": [
        "#bütün kelimeleri ve frekanslarını yazdıralım\n",
        "for kelime in tokenizer.word_index:\n",
        "    print (kelime, \"=\", tokenizer.word_counts[kelime], \"    \",)"
      ],
      "execution_count": 76,
      "outputs": [
        {
          "output_type": "stream",
          "text": [
            "the = 33     \n",
            "and = 21     \n",
            "to = 19     \n",
            "of = 19     \n",
            "in = 15     \n",
            "for = 12     \n",
            "fuzzy = 11     \n",
            "water = 11     \n",
            "is = 9     \n",
            "a = 8     \n",
            "we = 7     \n",
            "data = 5     \n",
            "by = 5     \n",
            "this = 5     \n",
            "are = 5     \n",
            "use = 5     \n",
            "placement = 5     \n",
            "fis = 5     \n",
            "many = 4     \n",
            "analysis = 4     \n",
            "that = 4     \n",
            "more = 4     \n",
            "an = 4     \n",
            "bipolar = 4     \n",
            "numbers = 4     \n",
            "optimization = 4     \n",
            "model = 4     \n",
            "conjunctive = 4     \n",
            "surface = 4     \n",
            "subsurface = 4     \n",
            "using = 4     \n",
            "system = 4     \n",
            "it = 3     \n",
            "knowledge = 3     \n",
            "organizations = 3     \n",
            "such = 3     \n",
            "collaborative = 3     \n",
            "paper = 3     \n",
            "cooccurrence = 3     \n",
            "matrices = 3     \n",
            "co = 3     \n",
            "cluster = 3     \n",
            "information = 3     \n",
            "two = 3     \n",
            "method = 3     \n",
            "algorithms = 3     \n",
            "problem = 3     \n",
            "resources = 3     \n",
            "virtual = 3     \n",
            "machine = 3     \n",
            "optimal = 3     \n",
            "server = 3     \n",
            "consolidation = 3     \n",
            "with = 3     \n",
            "real = 2     \n",
            "can = 2     \n",
            "useful = 2     \n",
            "utilizing = 2     \n",
            "multiple = 2     \n",
            "databases = 2     \n",
            "stored = 2     \n",
            "they = 2     \n",
            "their = 2     \n",
            "privacy = 2     \n",
            "issues = 2     \n",
            "novel = 2     \n",
            "framework = 2     \n",
            "several = 2     \n",
            "sites = 2     \n",
            "without = 2     \n",
            "fear = 2     \n",
            "leaks = 2     \n",
            "clustering = 2     \n",
            "structures = 2     \n",
            "process = 2     \n",
            "results = 2     \n",
            "than = 2     \n",
            "continuous = 2     \n",
            "satisfying = 2     \n",
            "also = 2     \n",
            "propose = 2     \n",
            "ordering = 2     \n",
            "used = 2     \n",
            "number = 2     \n",
            "managing = 2     \n",
            "cloud = 2     \n",
            "datacenters = 2     \n",
            "considered = 2     \n",
            "resource = 2     \n",
            "firefly = 2     \n",
            "colony = 2     \n",
            "obtain = 2     \n",
            "strategy = 2     \n",
            "techniques = 2     \n",
            "study = 2     \n",
            "management = 2     \n",
            "rule = 2     \n",
            "world = 1     \n",
            "tasks = 1     \n",
            "expected = 1     \n",
            "get = 1     \n",
            "much = 1     \n",
            "different = 1     \n",
            "as = 1     \n",
            "cooperation = 1     \n",
            "groups = 1     \n",
            "state = 1     \n",
            "organs = 1     \n",
            "allied = 1     \n",
            "countries = 1     \n",
            "however = 1     \n",
            "often = 1     \n",
            "hesitate = 1     \n",
            "publish = 1     \n",
            "because = 1     \n",
            "security = 1     \n",
            "although = 1     \n",
            "believe = 1     \n",
            "advantages = 1     \n",
            "proposes = 1     \n",
            "vertically = 1     \n",
            "partitioned = 1     \n",
            "structure = 1     \n",
            "estimation = 1     \n",
            "which = 1     \n",
            "among = 1     \n",
            "objects = 1     \n",
            "items = 1     \n",
            "separately = 1     \n",
            "order = 1     \n",
            "utilize = 1     \n",
            "distributed = 1     \n",
            "sets = 1     \n",
            "preserving = 1     \n",
            "procedure = 1     \n",
            "introduced = 1     \n",
            "categorical = 1     \n",
            "multivariate = 1     \n",
            "fccm = 1     \n",
            "withholding = 1     \n",
            "each = 1     \n",
            "element = 1     \n",
            "only = 1     \n",
            "object = 1     \n",
            "memberships = 1     \n",
            "shared = 1     \n",
            "implicit = 1     \n",
            "joint = 1     \n",
            "revealed = 1     \n",
            "through = 1     \n",
            "iterative = 1     \n",
            "experimental = 1     \n",
            "demonstrate = 1     \n",
            "contribute = 1     \n",
            "revealing = 1     \n",
            "global = 1     \n",
            "intrinsic = 1     \n",
            "separate = 1     \n",
            "rather = 1     \n",
            "individual = 1     \n",
            "site = 1     \n",
            "wise = 1     \n",
            "makes = 1     \n",
            "possible = 1     \n",
            "private = 1     \n",
            "public = 1     \n",
            "share = 1     \n",
            "common = 1     \n",
            "structural = 1     \n",
            "intent = 1     \n",
            "prove = 1     \n",
            "coupled = 1     \n",
            "fixed = 1     \n",
            "point = 1     \n",
            "theorem = 1     \n",
            "pairs = 1     \n",
            "compatible = 1     \n",
            "subsequentially = 1     \n",
            "alternately = 1     \n",
            "subcompatible = 1     \n",
            "reciprocally = 1     \n",
            "mappings = 1     \n",
            "ϕ = 1     \n",
            "contractive = 1     \n",
            "conditions = 1     \n",
            "metric = 1     \n",
            "space = 1     \n",
            "furnish = 1     \n",
            "some = 1     \n",
            "illustrative = 1     \n",
            "examples = 1     \n",
            "support = 1     \n",
            "our = 1     \n",
            "new = 1     \n",
            "comparison = 1     \n",
            "lr = 1     \n",
            "extension = 1     \n",
            "kerre’s = 1     \n",
            "being = 1     \n",
            "unipolar = 1     \n",
            "give = 1     \n",
            "direct = 1     \n",
            "formula = 1     \n",
            "compare = 1     \n",
            "triangular = 1     \n",
            "o = 1     \n",
            "1 = 1     \n",
            "operations = 1     \n",
            "making = 1     \n",
            "present = 1     \n",
            "application = 1     \n",
            "life = 1     \n",
            "most = 1     \n",
            "prevailing = 1     \n",
            "challenging = 1     \n",
            "task = 1     \n",
            "ahead = 1     \n",
            "industries = 1     \n",
            "centers = 1     \n",
            "be = 1     \n",
            "main = 1     \n",
            "source = 1     \n",
            "provisioning = 1     \n",
            "users = 1     \n",
            "these = 1     \n",
            "handle = 1     \n",
            "large = 1     \n",
            "requests = 1     \n",
            "has = 1     \n",
            "created = 1     \n",
            "need = 1     \n",
            "heuristic = 1     \n",
            "provide = 1     \n",
            "strategies = 1     \n",
            "objectives = 1     \n",
            "constraints = 1     \n",
            "formulated = 1     \n",
            "apply = 1     \n",
            "solve = 1     \n",
            "key = 1     \n",
            "namely = 1     \n",
            "multiobjective = 1     \n",
            "aims = 1     \n",
            "minimize = 1     \n",
            "count = 1     \n",
            "physical = 1     \n",
            "machines = 1     \n",
            "both = 1     \n",
            "minimum = 1     \n",
            "power = 1     \n",
            "consumption = 1     \n",
            "wastage = 1     \n",
            "proposed = 1     \n",
            "exhibit = 1     \n",
            "better = 1     \n",
            "performance = 1     \n",
            "heuristics = 1     \n",
            "metaheuristic = 1     \n",
            "approaches = 1     \n",
            "terms = 1     \n",
            "finding = 1     \n",
            "develops = 1     \n",
            "inference = 1     \n",
            "applies = 1     \n",
            "allocate = 1     \n",
            "demands = 1     \n",
            "subsequently = 1     \n",
            "allocations = 1     \n",
            "simulated = 1     \n",
            "linear = 1     \n",
            "programming = 1     \n",
            "responses = 1     \n",
            "respect = 1     \n",
            "pumping = 1     \n",
            "forecasted = 1     \n",
            "artificial = 1     \n",
            "neural = 1     \n",
            "networks = 1     \n",
            "operating = 1     \n",
            "systems = 1     \n",
            "abundant = 1     \n",
            "supplies = 1     \n",
            "easily = 1     \n",
            "incorporates = 1     \n",
            "expert = 1     \n",
            "operational = 1     \n",
            "polices = 1     \n",
            "into = 1     \n",
            "result = 1     \n",
            "indicates = 1     \n",
            "effective = 1     \n",
            "efficient = 1     \n",
            "when = 1     \n",
            "compared = 1     \n",
            "decoupled = 1     \n",
            "simulation = 1     \n",
            "models = 1     \n",
            "furthermore = 1     \n",
            "alternative = 1     \n",
            "way = 1     \n",
            "policies = 1     \n",
            "between = 1     \n"
          ],
          "name": "stdout"
        }
      ]
    },
    {
      "cell_type": "code",
      "metadata": {
        "id": "sQOTk95YjV1h",
        "colab_type": "code",
        "colab": {}
      },
      "source": [
        "sequences = tokenizer.texts_to_sequences(egitim_X)"
      ],
      "execution_count": 0,
      "outputs": []
    },
    {
      "cell_type": "code",
      "metadata": {
        "id": "kmrYv1gijbrH",
        "colab_type": "code",
        "colab": {
          "base_uri": "https://localhost:8080/",
          "height": 122
        },
        "outputId": "c46557ca-a50e-4cf1-adb3-49b8c4773745"
      },
      "source": [
        "for satir in sequences:\n",
        "    print (satir, \"  \",)"
      ],
      "execution_count": 79,
      "outputs": [
        {
          "output_type": "stream",
          "text": [
            "[5, 9, 5, 2, 5, 3, 4, 2, 1, 4, 6, 5, 7, 5, 2, 9, 5, 5, 3, 4, 9, 3, 7, 6, 4, 2, 3, 4, 1, 6, 2, 3, 4]   \n",
            "[1, 4, 9, 3, 6, 4, 2, 2, 5, 7, 3]   \n",
            "[6, 7, 5, 6, 4, 7, 4, 5, 4, 7, 3, 7, 5, 1, 6, 4, 7, 5]   \n",
            "[9, 1, 6, 1, 1, 3, 1, 6, 3, 1, 3, 4, 1, 6, 3, 1, 1, 2, 5, 3, 2, 7, 3, 4, 2, 1, 3, 1, 4, 2, 1, 9, 3, 2, 1, 1, 2, 5, 4, 2]   \n",
            "[1, 8, 6, 4, 2, 8, 7, 1, 1, 3, 1, 4, 2, 8, 8, 5, 1, 8, 2, 1, 4, 8, 3, 1, 6, 1, 8, 9, 1, 8, 8, 1, 7, 1, 2, 8, 1, 1, 9, 2, 1, 2, 1, 9, 3, 1, 2, 8]   \n"
          ],
          "name": "stdout"
        }
      ]
    },
    {
      "cell_type": "code",
      "metadata": {
        "id": "uI7Y-qK0kE5G",
        "colab_type": "code",
        "colab": {}
      },
      "source": [
        "# her bir giriş verisininin uzunluğu yalnızca 4 olsun\n",
        "\n",
        "from keras.preprocessing.sequence import pad_sequences\n",
        "\n",
        "giris = pad_sequences(sequences, maxlen=4)"
      ],
      "execution_count": 0,
      "outputs": []
    },
    {
      "cell_type": "code",
      "metadata": {
        "id": "32l6PT8EkFmm",
        "colab_type": "code",
        "colab": {
          "base_uri": "https://localhost:8080/",
          "height": 102
        },
        "outputId": "f22fca06-8dba-4407-8310-f8774cc9985b"
      },
      "source": [
        "for satir in giris:\n",
        "    print (satir, \"  \",)"
      ],
      "execution_count": 82,
      "outputs": [
        {
          "output_type": "stream",
          "text": [
            "[6 2 3 4]   \n",
            "[2 5 7 3]   \n",
            "[6 4 7 5]   \n",
            "[2 5 4 2]   \n",
            "[3 1 2 8]   \n"
          ],
          "name": "stdout"
        }
      ]
    }
  ]
}