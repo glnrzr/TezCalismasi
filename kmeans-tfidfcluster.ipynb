{
  "nbformat": 4,
  "nbformat_minor": 0,
  "metadata": {
    "colab": {
      "name": "Untitled3.ipynb",
      "provenance": [],
      "authorship_tag": "ABX9TyNsOyLOpxpfKj+gPRujR+fa",
      "include_colab_link": true
    },
    "kernelspec": {
      "name": "python3",
      "display_name": "Python 3"
    }
  },
  "cells": [
    {
      "cell_type": "markdown",
      "metadata": {
        "id": "view-in-github",
        "colab_type": "text"
      },
      "source": [
        "<a href=\"https://colab.research.google.com/github/glnrzr/TezCalismasi/blob/master/kmeans-tfidfcluster.ipynb\" target=\"_parent\"><img src=\"https://colab.research.google.com/assets/colab-badge.svg\" alt=\"Open In Colab\"/></a>"
      ]
    },
    {
      "cell_type": "code",
      "metadata": {
        "id": "8NdHrgLTPb5O",
        "colab_type": "code",
        "colab": {}
      },
      "source": [
        "from sklearn.feature_extraction.text import TfidfVectorizer\n",
        "from sklearn.cluster import KMeans\n",
        "all_text  =  \"\"\"\n",
        " Ekonomik kriz insanları etkiledi\n",
        " Ekonomik krizde çözüm aranıyor\n",
        " Ekonominin patronlarından parasal çözümler\n",
        " Mide ağrısı nasıl geçirilir\n",
        " Mide ağrısı için hangi ilaçlar iyidir\n",
        " Mideniz ağrıdığında ne yapmalısınız?\n",
        "\"\"\".split(\"\\n\")[1:-1]\n",
        "# Preprocessing and tokenizing\n",
        "def preprocessing(line):\n",
        "    line = line.lower()\n",
        "    line = re.sub(r\"[{}]\".format(string.punctuation), \" \", line)\n",
        "    return line"
      ],
      "execution_count": 0,
      "outputs": []
    },
    {
      "cell_type": "code",
      "metadata": {
        "id": "IZtZtpqqR3Jt",
        "colab_type": "code",
        "colab": {
          "base_uri": "https://localhost:8080/",
          "height": 119
        },
        "outputId": "ef2c1ecb-19ce-4c1b-d072-eb816c5b15d5"
      },
      "source": [
        "all_text"
      ],
      "execution_count": 2,
      "outputs": [
        {
          "output_type": "execute_result",
          "data": {
            "text/plain": [
              "[' Ekonomik kriz insanları etkiledi',\n",
              " ' Ekonomik krizde çözüm aranıyor',\n",
              " ' Ekonominin patronlarından parasal çözümler',\n",
              " ' Mide ağrısı nasıl geçirilir',\n",
              " ' Mide ağrısı için hangi ilaçlar iyidir',\n",
              " ' Mideniz ağrıdığında ne yapmalısınız?']"
            ]
          },
          "metadata": {
            "tags": []
          },
          "execution_count": 2
        }
      ]
    },
    {
      "cell_type": "code",
      "metadata": {
        "id": "l7btg0HdR7WY",
        "colab_type": "code",
        "colab": {}
      },
      "source": [
        "import re\n",
        "import string\n",
        "tfidf_vectorizer = TfidfVectorizer(preprocessor=preprocessing)\n",
        "tfidf = tfidf_vectorizer.fit_transform(all_text)\n",
        "sinif_sayisi =2\n",
        "kmeans = KMeans(n_clusters=sinif_sayisi).fit(tfidf)"
      ],
      "execution_count": 0,
      "outputs": []
    },
    {
      "cell_type": "code",
      "metadata": {
        "id": "5AIKpdHGR_ep",
        "colab_type": "code",
        "colab": {}
      },
      "source": [
        "suat_order_centroids = kmeans.cluster_centers_.argsort()[:, ::-1]\n",
        "suat_terms = tfidf_vectorizer.get_feature_names()"
      ],
      "execution_count": 0,
      "outputs": []
    },
    {
      "cell_type": "code",
      "metadata": {
        "id": "Tgg20V7ESDOX",
        "colab_type": "code",
        "colab": {
          "base_uri": "https://localhost:8080/",
          "height": 391
        },
        "outputId": "bab34807-0859-46de-a118-e22fbe5500e8"
      },
      "source": [
        "for i in range(sinif_sayisi):\n",
        "     print(\"Cluster %d:\" % i),\n",
        "     for ind in suat_order_centroids[i, :10]:\n",
        "         print(\" %s\" % suat_terms[ind])"
      ],
      "execution_count": 5,
      "outputs": [
        {
          "output_type": "stream",
          "text": [
            "Cluster 0:\n",
            " ekonomik\n",
            " aranıyor\n",
            " krizde\n",
            " etkiledi\n",
            " insanları\n",
            " çözüm\n",
            " kriz\n",
            " ağrıdığında\n",
            " ekonominin\n",
            " çözümler\n",
            "Cluster 1:\n",
            " ağrısı\n",
            " mide\n",
            " nasıl\n",
            " geçirilir\n",
            " için\n",
            " hangi\n",
            " ilaçlar\n",
            " iyidir\n",
            " insanları\n",
            " ağrıdığında\n"
          ],
          "name": "stdout"
        }
      ]
    }
  ]
}