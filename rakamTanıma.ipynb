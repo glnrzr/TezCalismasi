{
  "nbformat": 4,
  "nbformat_minor": 0,
  "metadata": {
    "colab": {
      "name": "Copy of Rakam Tanıma.ipynb",
      "provenance": [],
      "collapsed_sections": [],
      "include_colab_link": true
    },
    "kernelspec": {
      "name": "python3",
      "display_name": "Python 3"
    },
    "accelerator": "GPU"
  },
  "cells": [
    {
      "cell_type": "markdown",
      "metadata": {
        "id": "view-in-github",
        "colab_type": "text"
      },
      "source": [
        "<a href=\"https://colab.research.google.com/github/glnrzr/TezCalismasi/blob/master/rakamTan%C4%B1ma.ipynb\" target=\"_parent\"><img src=\"https://colab.research.google.com/assets/colab-badge.svg\" alt=\"Open In Colab\"/></a>"
      ]
    },
    {
      "cell_type": "markdown",
      "metadata": {
        "id": "hvnHVZRMTm4i",
        "colab_type": "text"
      },
      "source": [
        "### `Colab için gerekli kimlik doğrulama adımları`"
      ]
    },
    {
      "cell_type": "code",
      "metadata": {
        "id": "TPBeqxofPsD_",
        "colab_type": "code",
        "colab": {
          "base_uri": "https://localhost:8080/",
          "height": 224
        },
        "outputId": "a0fc1c52-0a2c-4644-9830-202e01fb511f"
      },
      "source": [
        "!apt-get install -y -qq software-properties-common python-software-properties module-init-tools\n",
        "!add-apt-repository -y ppa:alessandro-strada/ppa 2>&1 > /dev/null\n",
        "!apt-get update -qq 2>&1 > /dev/null\n",
        "!apt-get -y install -qq google-drive-ocamlfuse fuse\n",
        "from google.colab import auth\n",
        "auth.authenticate_user()\n",
        "from oauth2client.client import GoogleCredentials\n",
        "creds = GoogleCredentials.get_application_default()\n",
        "import getpass\n",
        "!google-drive-ocamlfuse -headless -id={creds.client_id} -secret={creds.client_secret} < /dev/null 2>&1 | grep URL\n",
        "vcode = getpass.getpass()\n",
        "!echo {vcode} | google-drive-ocamlfuse -headless -id={creds.client_id} -secret={creds.client_secret}"
      ],
      "execution_count": 1,
      "outputs": [
        {
          "output_type": "stream",
          "text": [
            "E: Package 'python-software-properties' has no installation candidate\n",
            "Selecting previously unselected package google-drive-ocamlfuse.\n",
            "(Reading database ... 144568 files and directories currently installed.)\n",
            "Preparing to unpack .../google-drive-ocamlfuse_0.7.19-0ubuntu1~ubuntu18.04.1_amd64.deb ...\n",
            "Unpacking google-drive-ocamlfuse (0.7.19-0ubuntu1~ubuntu18.04.1) ...\n",
            "Setting up google-drive-ocamlfuse (0.7.19-0ubuntu1~ubuntu18.04.1) ...\n",
            "Processing triggers for man-db (2.8.3-2ubuntu0.1) ...\n",
            "Please, open the following URL in a web browser: https://accounts.google.com/o/oauth2/auth?client_id=32555940559.apps.googleusercontent.com&redirect_uri=urn%3Aietf%3Awg%3Aoauth%3A2.0%3Aoob&scope=https%3A%2F%2Fwww.googleapis.com%2Fauth%2Fdrive&response_type=code&access_type=offline&approval_prompt=force\n",
            "··········\n",
            "Please, open the following URL in a web browser: https://accounts.google.com/o/oauth2/auth?client_id=32555940559.apps.googleusercontent.com&redirect_uri=urn%3Aietf%3Awg%3Aoauth%3A2.0%3Aoob&scope=https%3A%2F%2Fwww.googleapis.com%2Fauth%2Fdrive&response_type=code&access_type=offline&approval_prompt=force\n",
            "Please enter the verification code: Access token retrieved correctly.\n"
          ],
          "name": "stdout"
        }
      ]
    },
    {
      "cell_type": "markdown",
      "metadata": {
        "id": "7NSwFZ-kTRSN",
        "colab_type": "text"
      },
      "source": [
        "### `Kurulum ve Kontroller`"
      ]
    },
    {
      "cell_type": "code",
      "metadata": {
        "id": "dMOoqqPtTbRA",
        "colab_type": "code",
        "colab": {
          "base_uri": "https://localhost:8080/",
          "height": 476
        },
        "outputId": "4c5d92f2-dbbf-4bc0-c8aa-390349817087"
      },
      "source": [
        "from tensorflow.python.client import device_lib\n",
        "device_lib.list_local_devices()"
      ],
      "execution_count": 2,
      "outputs": [
        {
          "output_type": "execute_result",
          "data": {
            "text/plain": [
              "[name: \"/device:CPU:0\"\n",
              " device_type: \"CPU\"\n",
              " memory_limit: 268435456\n",
              " locality {\n",
              " }\n",
              " incarnation: 2755367602271374427, name: \"/device:XLA_CPU:0\"\n",
              " device_type: \"XLA_CPU\"\n",
              " memory_limit: 17179869184\n",
              " locality {\n",
              " }\n",
              " incarnation: 15444905943240500123\n",
              " physical_device_desc: \"device: XLA_CPU device\", name: \"/device:XLA_GPU:0\"\n",
              " device_type: \"XLA_GPU\"\n",
              " memory_limit: 17179869184\n",
              " locality {\n",
              " }\n",
              " incarnation: 8107194030624772222\n",
              " physical_device_desc: \"device: XLA_GPU device\", name: \"/device:GPU:0\"\n",
              " device_type: \"GPU\"\n",
              " memory_limit: 7304675328\n",
              " locality {\n",
              "   bus_id: 1\n",
              "   links {\n",
              "   }\n",
              " }\n",
              " incarnation: 709406099006146910\n",
              " physical_device_desc: \"device: 0, name: Tesla P4, pci bus id: 0000:00:04.0, compute capability: 6.1\"]"
            ]
          },
          "metadata": {
            "tags": []
          },
          "execution_count": 2
        }
      ]
    },
    {
      "cell_type": "code",
      "metadata": {
        "id": "t_0nUL3vU_8n",
        "colab_type": "code",
        "colab": {}
      },
      "source": [
        "!pip install -q keras"
      ],
      "execution_count": 0,
      "outputs": []
    },
    {
      "cell_type": "markdown",
      "metadata": {
        "id": "YAJE1CpXVKtI",
        "colab_type": "text"
      },
      "source": [
        "# `Uygulama Başlangıç`"
      ]
    },
    {
      "cell_type": "code",
      "metadata": {
        "id": "v2IhT_VcVbhu",
        "colab_type": "code",
        "colab": {
          "base_uri": "https://localhost:8080/",
          "height": 34
        },
        "outputId": "c9591805-af8c-407c-8647-51d835d75687"
      },
      "source": [
        "import keras\n",
        "import sklearn\n",
        "from keras.models import Sequential, load_model\n",
        "from keras.layers import MaxPooling2D, Conv2D, Dense, Dropout, Flatten\n",
        "from keras.datasets import mnist\n",
        "from keras import backend as K\n",
        "\n",
        "import matplotlib.pyplot as plt"
      ],
      "execution_count": 4,
      "outputs": [
        {
          "output_type": "stream",
          "text": [
            "Using TensorFlow backend.\n"
          ],
          "name": "stderr"
        }
      ]
    },
    {
      "cell_type": "code",
      "metadata": {
        "id": "9MAtJNDMjpKF",
        "colab_type": "code",
        "outputId": "d26a6b3a-55fe-4d17-bac8-5a2643c4b02a",
        "colab": {
          "base_uri": "https://localhost:8080/",
          "height": 51
        }
      },
      "source": [
        "(X_train,Y_train), (x_test, y_test) = mnist.load_data()"
      ],
      "execution_count": 5,
      "outputs": [
        {
          "output_type": "stream",
          "text": [
            "Downloading data from https://s3.amazonaws.com/img-datasets/mnist.npz\n",
            "11493376/11490434 [==============================] - 2s 0us/step\n"
          ],
          "name": "stdout"
        }
      ]
    },
    {
      "cell_type": "code",
      "metadata": {
        "id": "VxguB6l6j20k",
        "colab_type": "code",
        "outputId": "65009a01-7a4a-4d7b-c67f-8c1d6d0f5a94",
        "colab": {
          "base_uri": "https://localhost:8080/",
          "height": 315
        }
      },
      "source": [
        "plt.figure(figsize=(14,14))\n",
        "x, y = 10, 4 \n",
        "for i in range(20):  \n",
        "    plt.subplot(y, x, i+1)\n",
        "    plt.imshow(X_train[i])\n",
        "plt.show()"
      ],
      "execution_count": 6,
      "outputs": [
        {
          "output_type": "display_data",
          "data": {
            "image/png": "[encoded data removed]",
            "text/plain": [
              "<Figure size 1008x1008 with 20 Axes>"
            ]
          },
          "metadata": {
            "tags": [],
            "needs_background": "light"
          }
        }
      ]
    },
    {
      "cell_type": "code",
      "metadata": {
        "id": "dg87m4ihkt3O",
        "colab_type": "code",
        "colab": {}
      },
      "source": [
        "batch_size = 128 #veri setinin paket paket eğitimi için, paketlerinin boyutu\n",
        "num_classes = 10 #veri seti class sayısı\n",
        "epochs = 6       #eğitim için veride kaç tur atılacağı 12 de yapılabilir.\n",
        "\n",
        "img_rows, img_cols = 28, 28 \n",
        "\n",
        "\n",
        "if K.image_data_format() == 'channels_first':\n",
        "    X_train = X_train.reshape(X_train.shape[0], 1, img_rows, img_cols)\n",
        "    x_test = x_test.reshape(x_test.shape[0], 1, img_rows, img_cols)\n",
        "    input_shape = (1, img_rows, img_cols)\n",
        "else:\n",
        "    X_train = X_train.reshape(X_train.shape[0], img_rows, img_cols, 1)\n",
        "    x_test = x_test.reshape(x_test.shape[0], img_rows, img_cols, 1)\n",
        "    input_shape = (img_rows, img_cols, 1)"
      ],
      "execution_count": 0,
      "outputs": []
    },
    {
      "cell_type": "markdown",
      "metadata": {
        "id": "sUguGKg0mTvK",
        "colab_type": "text"
      },
      "source": [
        "Sınıf değerlerini 0 ve 1 arasına indirgemek için, OneHotEncoding kullanıldı.\n",
        "\n",
        "\n",
        "\n",
        "\n"
      ]
    },
    {
      "cell_type": "code",
      "metadata": {
        "id": "9D0y3wZtmMPv",
        "colab_type": "code",
        "colab": {}
      },
      "source": [
        "Y_train = keras.utils.to_categorical(Y_train, num_classes)  \n",
        "y_test = keras.utils.to_categorical(y_test, num_classes)"
      ],
      "execution_count": 0,
      "outputs": []
    },
    {
      "cell_type": "markdown",
      "metadata": {
        "id": "dfpKHyOjm0Um",
        "colab_type": "text"
      },
      "source": [
        "# `Model oluşturma`"
      ]
    },
    {
      "cell_type": "code",
      "metadata": {
        "id": "MIfDVXnWm6fd",
        "colab_type": "code",
        "colab": {}
      },
      "source": [
        "model = Sequential()"
      ],
      "execution_count": 0,
      "outputs": []
    },
    {
      "cell_type": "markdown",
      "metadata": {
        "id": "dAD780zBnHYx",
        "colab_type": "text"
      },
      "source": [
        "### `Katmanların oluşturulması`"
      ]
    },
    {
      "cell_type": "code",
      "metadata": {
        "id": "yBtGtfGgnEOv",
        "colab_type": "code",
        "colab": {}
      },
      "source": [
        "model.add(Conv2D(32, kernel_size=(3, 3),\n",
        "                 activation='relu',\n",
        "                 input_shape=input_shape))\n",
        "\n",
        " \n",
        "model.add(Conv2D(64, (3, 3), activation='relu'))\n",
        "\n",
        "\n",
        "model.add(MaxPooling2D(pool_size=(2, 2))) # max ortaklama \n",
        "\n",
        "\n",
        "model.add(Dropout(0.25))  #nöronların %25ini silecek işlem\n",
        "\n",
        "\n",
        "model.add(Flatten())  # tam bağlantı katmanı oluşturuldu.\n",
        "\n",
        "\n",
        "model.add(Dense(128, activation='relu'))  # 128 nörondan oluşan yapay sinir ağı oluşturuldu.\n",
        "\n",
        "model.add(Dropout(0.5))\n",
        "\n",
        "\n",
        "model.add(Dense(num_classes, activation='softmax')) #sınıf sayısı kadar nöronu olan çıkış katmanı oluşturuldu."
      ],
      "execution_count": 0,
      "outputs": []
    },
    {
      "cell_type": "markdown",
      "metadata": {
        "id": "IcaEHHjQv0AL",
        "colab_type": "text"
      },
      "source": [
        "### `Model Görselleştirme`"
      ]
    },
    {
      "cell_type": "code",
      "metadata": {
        "id": "Cx2hQrV1v3kb",
        "colab_type": "code",
        "outputId": "cbee40a3-e6c5-45f1-b7bb-68b9690968d0",
        "colab": {
          "base_uri": "https://localhost:8080/",
          "height": 425
        }
      },
      "source": [
        "model.summary()"
      ],
      "execution_count": 11,
      "outputs": [
        {
          "output_type": "stream",
          "text": [
            "Model: \"sequential_1\"\n",
            "_________________________________________________________________\n",
            "Layer (type)                 Output Shape              Param #   \n",
            "=================================================================\n",
            "conv2d_1 (Conv2D)            (None, 26, 26, 32)        320       \n",
            "_________________________________________________________________\n",
            "conv2d_2 (Conv2D)            (None, 24, 24, 64)        18496     \n",
            "_________________________________________________________________\n",
            "max_pooling2d_1 (MaxPooling2 (None, 12, 12, 64)        0         \n",
            "_________________________________________________________________\n",
            "dropout_1 (Dropout)          (None, 12, 12, 64)        0         \n",
            "_________________________________________________________________\n",
            "flatten_1 (Flatten)          (None, 9216)              0         \n",
            "_________________________________________________________________\n",
            "dense_1 (Dense)              (None, 128)               1179776   \n",
            "_________________________________________________________________\n",
            "dropout_2 (Dropout)          (None, 128)               0         \n",
            "_________________________________________________________________\n",
            "dense_2 (Dense)              (None, 10)                1290      \n",
            "=================================================================\n",
            "Total params: 1,199,882\n",
            "Trainable params: 1,199,882\n",
            "Non-trainable params: 0\n",
            "_________________________________________________________________\n"
          ],
          "name": "stdout"
        }
      ]
    },
    {
      "cell_type": "code",
      "metadata": {
        "id": "no2LraiswCAz",
        "colab_type": "code",
        "colab": {}
      },
      "source": [
        "model.compile(loss = keras.losses.categorical_crossentropy,\n",
        "             optimizer = keras.optimizers.Adadelta(),\n",
        "             metrics = ['accuracy'])"
      ],
      "execution_count": 0,
      "outputs": []
    },
    {
      "cell_type": "markdown",
      "metadata": {
        "id": "PivQJo2wwE6q",
        "colab_type": "text"
      },
      "source": [
        "### `Eğitim işlemleri`"
      ]
    },
    {
      "cell_type": "code",
      "metadata": {
        "id": "5PZfAL9_wG8T",
        "colab_type": "code",
        "outputId": "7df04c47-1cf6-42d2-b689-9c31882e8869",
        "colab": {
          "base_uri": "https://localhost:8080/",
          "height": 255
        }
      },
      "source": [
        "model.fit(X_train,\n",
        "          Y_train,\n",
        "          batch_size=batch_size,\n",
        "          epochs=epochs,\n",
        "          verbose=1,\n",
        "          validation_data=(x_test, y_test))"
      ],
      "execution_count": 13,
      "outputs": [
        {
          "output_type": "stream",
          "text": [
            "Train on 60000 samples, validate on 10000 samples\n",
            "Epoch 1/6\n",
            "60000/60000 [==============================] - 12s 200us/step - loss: 0.7978 - accuracy: 0.8604 - val_loss: 0.0758 - val_accuracy: 0.9786\n",
            "Epoch 2/6\n",
            "60000/60000 [==============================] - 6s 92us/step - loss: 0.1343 - accuracy: 0.9626 - val_loss: 0.0508 - val_accuracy: 0.9847\n",
            "Epoch 3/6\n",
            "60000/60000 [==============================] - 6s 92us/step - loss: 0.0919 - accuracy: 0.9742 - val_loss: 0.0436 - val_accuracy: 0.9873\n",
            "Epoch 4/6\n",
            "60000/60000 [==============================] - 6s 92us/step - loss: 0.0713 - accuracy: 0.9787 - val_loss: 0.0442 - val_accuracy: 0.9859\n",
            "Epoch 5/6\n",
            "60000/60000 [==============================] - 6s 93us/step - loss: 0.0551 - accuracy: 0.9839 - val_loss: 0.0381 - val_accuracy: 0.9886\n",
            "Epoch 6/6\n",
            "60000/60000 [==============================] - 6s 92us/step - loss: 0.0516 - accuracy: 0.9849 - val_loss: 0.0352 - val_accuracy: 0.9894\n"
          ],
          "name": "stdout"
        },
        {
          "output_type": "execute_result",
          "data": {
            "text/plain": [
              "<keras.callbacks.callbacks.History at 0x7fee2a1b0f60>"
            ]
          },
          "metadata": {
            "tags": []
          },
          "execution_count": 13
        }
      ]
    },
    {
      "cell_type": "code",
      "metadata": {
        "id": "l5Y5j7aOwygy",
        "colab_type": "code",
        "colab": {}
      },
      "source": [
        "model.save('mnist_model.h5')"
      ],
      "execution_count": 0,
      "outputs": []
    },
    {
      "cell_type": "code",
      "metadata": {
        "id": "UX4pPO7ixVt8",
        "colab_type": "code",
        "outputId": "bd25053b-645f-49fb-9267-f9d5e776b637",
        "colab": {
          "base_uri": "https://localhost:8080/",
          "height": 51
        }
      },
      "source": [
        "score = model.evaluate(x_test, y_test, verbose=0)\n",
        "print('Test Loss:', score[0])\n",
        "print('Test Accuracy:', score[1])"
      ],
      "execution_count": 15,
      "outputs": [
        {
          "output_type": "stream",
          "text": [
            "Test Loss: 0.035223703850391835\n",
            "Test Accuracy: 0.9894000291824341\n"
          ],
          "name": "stdout"
        }
      ]
    },
    {
      "cell_type": "markdown",
      "metadata": {
        "id": "XBvGMVpux_ta",
        "colab_type": "text"
      },
      "source": [
        "\n",
        "## `Rastgele değer için test işlemi`"
      ]
    },
    {
      "cell_type": "code",
      "metadata": {
        "id": "BrfFR7px2DmT",
        "colab_type": "code",
        "outputId": "0a4fe401-8e81-4048-b6f7-4338e441c8cf",
        "colab": {
          "base_uri": "https://localhost:8080/",
          "height": 34
        }
      },
      "source": [
        "test_image = x_test[64]\n",
        "y_test[64]"
      ],
      "execution_count": 22,
      "outputs": [
        {
          "output_type": "execute_result",
          "data": {
            "text/plain": [
              "array([0., 0., 0., 0., 0., 0., 0., 1., 0., 0.], dtype=float32)"
            ]
          },
          "metadata": {
            "tags": []
          },
          "execution_count": 22
        }
      ]
    },
    {
      "cell_type": "code",
      "metadata": {
        "id": "vBAElnVP2IGk",
        "colab_type": "code",
        "outputId": "2498024e-0806-4dcd-b75a-2f5b0090011b",
        "colab": {
          "base_uri": "https://localhost:8080/",
          "height": 282
        }
      },
      "source": [
        "plt.imshow(test_image.reshape(28,28))"
      ],
      "execution_count": 23,
      "outputs": [
        {
          "output_type": "execute_result",
          "data": {
            "text/plain": [
              "<matplotlib.image.AxesImage at 0x7fedffeee0f0>"
            ]
          },
          "metadata": {
            "tags": []
          },
          "execution_count": 23
        },
        {
          "output_type": "display_data",
          "data": {
            "image/png": "[encoded data removed]",
            "text/plain": [
              "<Figure size 432x288 with 1 Axes>"
            ]
          },
          "metadata": {
            "tags": [],
            "needs_background": "light"
          }
        }
      ]
    },
    {
      "cell_type": "code",
      "metadata": {
        "id": "FUaiEGVV2NEp",
        "colab_type": "code",
        "outputId": "35736a88-acde-4405-fc88-313a3ade8d51",
        "colab": {
          "base_uri": "https://localhost:8080/",
          "height": 68
        }
      },
      "source": [
        "test_data = x_test[64].reshape(1,28,28,1)\n",
        "pred = model.predict(test_data, batch_size=1)\n",
        "print(pred)"
      ],
      "execution_count": 25,
      "outputs": [
        {
          "output_type": "stream",
          "text": [
            "[[1.31194774e-19 3.07509682e-12 1.62100877e-09 1.02360409e-09\n",
            "  3.45453249e-11 1.90765253e-16 1.72304319e-19 1.00000000e+00\n",
            "  3.89190660e-13 1.01562286e-13]]\n"
          ],
          "name": "stdout"
        }
      ]
    }
  ]
}